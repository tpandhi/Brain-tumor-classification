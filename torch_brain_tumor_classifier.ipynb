{
 "cells": [
  {
   "cell_type": "markdown",
   "metadata": {
    "colab_type": "text",
    "id": "43754Epan7bx"
   },
   "source": [
    "# Brain Tumor Classification\n",
    "\n",
    "A Brain Tumor Classifier using fine-tuned ResNet50 Neural Network architecture with almost 99 % Accuracy achieved by applying the method of Transfer Learning.\n",
    "\n",
    "Given an MRI image of brain, classify the tumor into **Meningioma, Glioma, and Pitutary**, if present. \n",
    "\n",
    "Project done using Google Colab with follwing specifications:\n",
    "\n",
    "* Ubuntu 18.04 64-bit OS\n",
    "* 12 GB DDR4 RAM\n",
    "* 16 GB NVidia P100 GPU\n",
    "* 40 GB of Non-Persistent Storage\n",
    "\n",
    "Refer [brain_tumor_dataset_preparation.ipynb](brain_tumor_dataset_preparation.ipynb) for dataset preparation & pre-processing that we did."
   ]
  },
  {
   "cell_type": "markdown",
   "metadata": {
    "colab_type": "text",
    "id": "s4k9AZlhoVgg"
   },
   "source": [
    "## Import Necessary Libraries\n",
    "\n",
    "We'll be using the following libraries to complete our classification problem:\n",
    "\n",
    "* Numpy - For linear algebra operations \n",
    "* Torch - Pytorch Deep Learning Framework\n",
    "* Torch NN - Neural network class from Pytorch library\n",
    "* Torch NN Functional - Functional Neural Network class from Pytorch library\n",
    "* Torch Utils Data: DataLoader, Dataset - Dataset class used to create custom dataset class by subclassing it and DataLoader is used to laod data in batches using dataset class in real-time.\n",
    "* Torchvision: Transforms, Models - Trochvision provides augmentation techniques using transforms class and transfer learning models are available in models class\n",
    "* OS - To use Operating System methods\n",
    "* Random - To set random seed at specific places where random operations take place just so it happens the same way everytime it is executed\n",
    "* Pandas - To create DataFrame, CSV files, etc\n",
    "* Time - To perform date time operations\n",
    "* Seaborn - For sophisticated visualization\n",
    "* Pickle - To save and load binary files of our training data\n",
    "* Scikit-Learn - For evaluating our Classifier and for cross-validation split\n",
    "* Matplotlib - To visualize images, losses and accuracy\n",
    "* Google Colab Drive - To mount Google Drive so we can perform storage and loading operations using it\n",
    "\n",
    "To install the requirements, refer [requirements.txt](requirements.txt) file\n",
    "\n",
    " `pip3 install -r requirements.txt`\n",
    "                      \n",
    "Let's go ahead and import the required libraries"
   ]
  },
  {
   "cell_type": "code",
   "execution_count": 1,
   "metadata": {
    "tags": []
   },
   "outputs": [
    {
     "name": "stdout",
     "output_type": "stream",
     "text": [
      "Requirement already satisfied: torchvision in /Users/tanyapandhi/anaconda3/lib/python3.11/site-packages (0.17.2)\n",
      "Requirement already satisfied: numpy in /Users/tanyapandhi/anaconda3/lib/python3.11/site-packages (from torchvision) (1.24.3)\n",
      "Requirement already satisfied: torch==2.2.2 in /Users/tanyapandhi/anaconda3/lib/python3.11/site-packages (from torchvision) (2.2.2)\n",
      "Requirement already satisfied: pillow!=8.3.*,>=5.3.0 in /Users/tanyapandhi/anaconda3/lib/python3.11/site-packages (from torchvision) (9.4.0)\n",
      "Requirement already satisfied: filelock in /Users/tanyapandhi/anaconda3/lib/python3.11/site-packages (from torch==2.2.2->torchvision) (3.9.0)\n",
      "Requirement already satisfied: typing-extensions>=4.8.0 in /Users/tanyapandhi/anaconda3/lib/python3.11/site-packages (from torch==2.2.2->torchvision) (4.10.0)\n",
      "Requirement already satisfied: sympy in /Users/tanyapandhi/anaconda3/lib/python3.11/site-packages (from torch==2.2.2->torchvision) (1.11.1)\n",
      "Requirement already satisfied: networkx in /Users/tanyapandhi/anaconda3/lib/python3.11/site-packages (from torch==2.2.2->torchvision) (2.8.4)\n",
      "Requirement already satisfied: jinja2 in /Users/tanyapandhi/anaconda3/lib/python3.11/site-packages (from torch==2.2.2->torchvision) (3.1.2)\n",
      "Requirement already satisfied: fsspec in /Users/tanyapandhi/anaconda3/lib/python3.11/site-packages (from torch==2.2.2->torchvision) (2023.4.0)\n",
      "Requirement already satisfied: MarkupSafe>=2.0 in /Users/tanyapandhi/anaconda3/lib/python3.11/site-packages (from jinja2->torch==2.2.2->torchvision) (2.1.1)\n",
      "Requirement already satisfied: mpmath>=0.19 in /Users/tanyapandhi/anaconda3/lib/python3.11/site-packages (from sympy->torch==2.2.2->torchvision) (1.2.1)\n",
      "Note: you may need to restart the kernel to use updated packages.\n"
     ]
    }
   ],
   "source": [
    "pip install torchvision"
   ]
  },
  {
   "cell_type": "code",
   "execution_count": 4,
   "metadata": {
    "colab": {
     "base_uri": "https://localhost:8080/",
     "height": 52
    },
    "colab_type": "code",
    "id": "ppY0E2oBcXNu",
    "outputId": "523f44ab-6260-44fd-8e22-1ec57ddd7605",
    "tags": []
   },
   "outputs": [],
   "source": [
    "import torch\n",
    "import torch.nn as nn\n",
    "import torch.nn.functional as F\n",
    "from torch.utils.data import DataLoader, Dataset\n",
    "from torchvision import transforms, models\n",
    "from torchvision.utils import make_grid\n",
    "import os\n",
    "import random\n",
    "import numpy as np\n",
    "import pandas as pd\n",
    "import pickle\n",
    "import time\n",
    "import matplotlib.pyplot as plt\n",
    "import seaborn as sns\n",
    "from sklearn.model_selection import train_test_split\n",
    "from sklearn.metrics import confusion_matrix, classification_report, jaccard_score\n",
    "# from google.colab import drive "
   ]
  },
  {
   "cell_type": "markdown",
   "metadata": {
    "colab_type": "text",
    "id": "YyPnviwkoaRh"
   },
   "source": [
    "Print Pytorch's version"
   ]
  },
  {
   "cell_type": "code",
   "execution_count": 5,
   "metadata": {
    "colab": {
     "base_uri": "https://localhost:8080/",
     "height": 34
    },
    "colab_type": "code",
    "id": "uY8S0R76sj90",
    "outputId": "012126c7-b199-473a-d7c3-88a22c6eeb3b"
   },
   "outputs": [
    {
     "data": {
      "text/plain": [
       "'2.2.2'"
      ]
     },
     "execution_count": 5,
     "metadata": {},
     "output_type": "execute_result"
    }
   ],
   "source": [
    "torch.__version__"
   ]
  },
  {
   "cell_type": "markdown",
   "metadata": {
    "colab_type": "text",
    "id": "8uWrMvwCbmsw"
   },
   "source": [
    "Check GPU"
   ]
  },
  {
   "cell_type": "code",
   "execution_count": 6,
   "metadata": {
    "colab": {
     "base_uri": "https://localhost:8080/",
     "height": 372
    },
    "colab_type": "code",
    "id": "4NKtY3ESbmSl",
    "outputId": "e54e9295-b586-4ee6-ff51-70e63e9dd854"
   },
   "outputs": [
    {
     "name": "stdout",
     "output_type": "stream",
     "text": [
      "zsh:1: command not found: nvidia-smi\n"
     ]
    }
   ],
   "source": [
    "!nvidia-smi"
   ]
  },
  {
   "cell_type": "markdown",
   "metadata": {
    "colab_type": "text",
    "id": "mQ_bNRuloctt"
   },
   "source": [
    "Import Google Drive for persistent storage of our training data, neural network model weights and other required files."
   ]
  },
  {
   "cell_type": "code",
   "execution_count": 7,
   "metadata": {
    "colab": {
     "base_uri": "https://localhost:8080/",
     "height": 34
    },
    "colab_type": "code",
    "id": "SMpvVU6Tq2jy",
    "outputId": "daadc193-1cba-405d-d50d-06a05f3e8348"
   },
   "outputs": [
    {
     "ename": "NameError",
     "evalue": "name 'drive' is not defined",
     "output_type": "error",
     "traceback": [
      "\u001b[0;31m---------------------------------------------------------------------------\u001b[0m",
      "\u001b[0;31mNameError\u001b[0m                                 Traceback (most recent call last)",
      "Cell \u001b[0;32mIn[7], line 1\u001b[0m\n\u001b[0;32m----> 1\u001b[0m drive\u001b[38;5;241m.\u001b[39mmount(\u001b[38;5;124m'\u001b[39m\u001b[38;5;124m/content/drive\u001b[39m\u001b[38;5;124m'\u001b[39m)\n",
      "\u001b[0;31mNameError\u001b[0m: name 'drive' is not defined"
     ]
    }
   ],
   "source": [
    "drive.mount('/content/drive')"
   ]
  },
  {
   "cell_type": "markdown",
   "metadata": {
    "colab_type": "text",
    "id": "go-hqw0wokrN"
   },
   "source": [
    "Empty GPU's memory/cache for training so we'd clear garbage values in it and more memory will be available"
   ]
  },
  {
   "cell_type": "code",
   "execution_count": 8,
   "metadata": {
    "colab": {},
    "colab_type": "code",
    "id": "XOjZidblq5JL"
   },
   "outputs": [],
   "source": [
    "torch.cuda.empty_cache()"
   ]
  },
  {
   "cell_type": "markdown",
   "metadata": {
    "colab_type": "text",
    "id": "zjPKpYJTooMG"
   },
   "source": [
    "## Custom Dataset Class\n",
    "\n",
    "Create a custom dataset class that augments each image into 4 different angles: 0, 45, 90, 120, 180, 270, 300, 330 degrees. Fuse it with Pytorch's DataLoader class so data can be loaded, augmented and trained in realtime instead of caching all training samples in memory for augmenting."
   ]
  },
  {
   "cell_type": "code",
   "execution_count": 9,
   "metadata": {
    "colab": {},
    "colab_type": "code",
    "id": "V4PuME0qmFvZ"
   },
   "outputs": [],
   "source": [
    "class BrainTumorDataset(Dataset):\n",
    "  def __init__(self, images, labels):\n",
    "    # images\n",
    "    self.X = images\n",
    "    # labels\n",
    "    self.y = labels\n",
    "    \n",
    "    # Transformation for converting original image array to an image and then convert it to a tensor\n",
    "    self.transform = transforms.Compose([transforms.ToPILImage(),\n",
    "        transforms.ToTensor()\n",
    "    ])\n",
    "\n",
    "    # Transformation for converting original image array to an image, rotate it randomly between -45 degrees and 45 degrees, and then convert it to a tensor\n",
    "    self.transform1 = transforms.Compose([\n",
    "        transforms.ToPILImage(),                                          \n",
    "        transforms.RandomRotation(45),\n",
    "        transforms.ToTensor()                                 \n",
    "    ])\n",
    "\n",
    "    # Transformation for converting original image array to an image, rotate it randomly between -90 degrees and 90 degrees, and then convert it to a tensor\n",
    "    self.transform2 = transforms.Compose([\n",
    "        transforms.ToPILImage(),\n",
    "        transforms.RandomRotation(90),\n",
    "        transforms.ToTensor()                                  \n",
    "    ])\n",
    "\n",
    "    # Transformation for converting original image array to an image, rotate it randomly between -120 degrees and 120 degrees, and then convert it to a tensor\n",
    "    self.transform3 = transforms.Compose([\n",
    "        transforms.ToPILImage(),\n",
    "        transforms.RandomRotation(120),\n",
    "        transforms.ToTensor()                                  \n",
    "    ])\n",
    "\n",
    "    # Transformation for converting original image array to an image, rotate it randomly between -180 degrees and 180 degrees, and then convert it to a tensor\n",
    "    self.transform4 = transforms.Compose([\n",
    "        transforms.ToPILImage(),\n",
    "        transforms.RandomRotation(180),\n",
    "        transforms.ToTensor()                                \n",
    "    ])\n",
    "\n",
    "    # Transformation for converting original image array to an image, rotate it randomly between -270 degrees and 270 degrees, and then convert it to a tensor\n",
    "    self.transform5 = transforms.Compose([\n",
    "        transforms.ToPILImage(),\n",
    "        transforms.RandomRotation(270),\n",
    "        transforms.ToTensor()                                \n",
    "    ])\n",
    "\n",
    "    # Transformation for converting original image array to an image, rotate it randomly between -300 degrees and 300 degrees, and then convert it to a tensor\n",
    "    self.transform6 = transforms.Compose([\n",
    "        transforms.ToPILImage(),\n",
    "        transforms.RandomRotation(300),\n",
    "        transforms.ToTensor()                               \n",
    "    ])\n",
    "\n",
    "    # Transformation for converting original image array to an image, rotate it randomly between -330 degrees and 330 degrees, and then convert it to a tensor\n",
    "    self.transform7 = transforms.Compose([\n",
    "        transforms.ToPILImage(),\n",
    "        transforms.RandomRotation(330),\n",
    "        transforms.ToTensor()                                 \n",
    "    ])\n",
    "\n",
    "  def __len__(self):\n",
    "    # return length of image samples\n",
    "    return len(self.X)\n",
    "\n",
    "  def __getitem__(self, idx):\n",
    "    # perform transformations on one instance of X\n",
    "    # Original image as a tensor\n",
    "    data = self.transform(self.X[idx])\n",
    "\n",
    "    # Augmented image at 45 degrees as a tensor\n",
    "    aug45 = self.transform1(self.X[idx])\n",
    "\n",
    "    # Augmented image at 90 degrees as a tensor\n",
    "    aug90 = self.transform2(self.X[idx])\n",
    "\n",
    "    # Augmented image at 120 degrees as a tensor\n",
    "    aug120 = self.transform3(self.X[idx])\n",
    "\n",
    "    # Augmented image at 180 degrees as a tensor\n",
    "    aug180 = self.transform4(self.X[idx])\n",
    "\n",
    "    # Augmented image at 270 degrees as a tensor\n",
    "    aug270 = self.transform5(self.X[idx])\n",
    "\n",
    "    # Augmented image at 300 degrees as a tensor\n",
    "    aug300 = self.transform6(self.X[idx])\n",
    "\n",
    "    # Augmented image at 330 degrees as a tensor\n",
    "    aug330 = self.transform7(self.X[idx])      \n",
    "    \n",
    "    # store the transformed images in a list\n",
    "    new_batch = [data, aug45, aug90, aug120, aug180, aug270, aug300, aug330]\n",
    "\n",
    "    # one-hot encode the labels\n",
    "    labels = torch.zeros(4, dtype=torch.float32)\n",
    "    labels[int(self.y[idx])] = 1.0\n",
    "\n",
    "    new_labels = [labels, labels, labels, labels, labels, labels, labels, labels]\n",
    "\n",
    "    # 8 augmented images and corresponding labels per sample will be returned\n",
    "    return (torch.stack(new_labels), torch.stack(new_batch))"
   ]
  },
  {
   "cell_type": "markdown",
   "metadata": {
    "colab_type": "text",
    "id": "zE6mTnC6pQRD"
   },
   "source": [
    "## Load the Dataset\n",
    "\n",
    "* Load the **training_data.pickle** file. \n",
    "\n",
    "* Store the images and labels in separate lists called Xt & yt."
   ]
  },
  {
   "cell_type": "code",
   "execution_count": null,
   "metadata": {
    "colab": {},
    "colab_type": "code",
    "id": "trcS9hq8q7Dq"
   },
   "outputs": [],
   "source": [
    "training_data = pickle.load(open('/content/drive/My Drive/new_dataset/training_data.pickle', 'rb'))"
   ]
  },
  {
   "cell_type": "markdown",
   "metadata": {
    "colab_type": "text",
    "id": "-FUX5SScHhEg"
   },
   "source": [
    "Create empty lists for storing our data"
   ]
  },
  {
   "cell_type": "code",
   "execution_count": null,
   "metadata": {
    "colab": {},
    "colab_type": "code",
    "id": "hY6k--StlVAC"
   },
   "outputs": [],
   "source": [
    "Xt = []\n",
    "yt = []\n",
    "features = None\n",
    "labels = None\n",
    "label = []"
   ]
  },
  {
   "cell_type": "markdown",
   "metadata": {
    "colab_type": "text",
    "id": "chU6n1FDHllX"
   },
   "source": [
    "Store images in Xt and labels in yt iteratively"
   ]
  },
  {
   "cell_type": "code",
   "execution_count": null,
   "metadata": {
    "colab": {},
    "colab_type": "code",
    "id": "9gQx6_RtlwfE"
   },
   "outputs": [],
   "source": [
    "for features,labels in training_data:\n",
    "  Xt.append(features)\n",
    "  yt.append(labels)"
   ]
  },
  {
   "cell_type": "markdown",
   "metadata": {
    "colab_type": "text",
    "id": "QOlU2ZoCpitc"
   },
   "source": [
    "## Train Validation Test split\n",
    "\n",
    "Split the dataset for training using cross-validation method.\n",
    "\n",
    "* 70 % of images for training \n",
    "* 15% of images for validating\n",
    "* 15% of images for testing\n",
    "\n",
    "Set random seed and random_state to any arbitrary number, so the train_test_split happens the same way everytime the function is called."
   ]
  },
  {
   "cell_type": "code",
   "execution_count": null,
   "metadata": {
    "colab": {},
    "colab_type": "code",
    "id": "wxT6Znuul5Kq"
   },
   "outputs": [],
   "source": [
    "# 70 % training, 15% validating, 15% testing\n",
    "X_train, X_test, y_train, y_test = train_test_split(Xt, yt, test_size=0.3, shuffle=True)  # 70% training, 30% testing\n",
    "X_valid, X_test, y_valid, y_test = train_test_split(X_test, y_test, test_size=0.5, shuffle=True)  # split testing set into 50% validation , 50% testing "
   ]
  },
  {
   "cell_type": "markdown",
   "metadata": {
    "colab_type": "text",
    "id": "BWlXaeaVqINY"
   },
   "source": [
    "Empty the previously used lists and arrays to free up RAM / Cache"
   ]
  },
  {
   "cell_type": "code",
   "execution_count": null,
   "metadata": {
    "colab": {},
    "colab_type": "code",
    "id": "34qYiYRlJoXH"
   },
   "outputs": [],
   "source": [
    "Xt = None\n",
    "yt = None\n",
    "features = None\n",
    "labels = None\n",
    "label = None\n",
    "training_data = None "
   ]
  },
  {
   "cell_type": "markdown",
   "metadata": {
    "colab_type": "text",
    "id": "oKlDZh7VqaJj"
   },
   "source": [
    "Create training set, validation set and test set using our custom dataset class"
   ]
  },
  {
   "cell_type": "code",
   "execution_count": null,
   "metadata": {
    "colab": {},
    "colab_type": "code",
    "id": "rnTKHLR5mCeI"
   },
   "outputs": [],
   "source": [
    "train_set = BrainTumorDataset(X_train, y_train)\n",
    "valid_set = BrainTumorDataset(X_valid, y_valid)\n",
    "test_set = BrainTumorDataset(X_test, y_test)"
   ]
  },
  {
   "cell_type": "markdown",
   "metadata": {
    "colab_type": "text",
    "id": "tfWO3u4YqiUP"
   },
   "source": [
    "Print original number of samples in each set"
   ]
  },
  {
   "cell_type": "code",
   "execution_count": null,
   "metadata": {
    "colab": {
     "base_uri": "https://localhost:8080/",
     "height": 70
    },
    "colab_type": "code",
    "id": "MEL7oQ4Y8NIe",
    "outputId": "b4d33819-b7f1-4b5a-ce44-d7aa9c9d9b0c"
   },
   "outputs": [],
   "source": [
    "print(f\"Number of training samples: {len(X_train)}\")\n",
    "print(f\"Number of validation samples: {len(X_valid)}\")\n",
    "print(f\"Number of testing samples: {len(X_test)}\")"
   ]
  },
  {
   "cell_type": "markdown",
   "metadata": {
    "colab_type": "text",
    "id": "0udsS0Qqql3g"
   },
   "source": [
    "Print augmented number of samples in each set"
   ]
  },
  {
   "cell_type": "code",
   "execution_count": null,
   "metadata": {
    "colab": {
     "base_uri": "https://localhost:8080/",
     "height": 70
    },
    "colab_type": "code",
    "id": "8PJu7hjEi0Ij",
    "outputId": "b9cb23ac-8182-4b4b-cd7f-d7b93670b615"
   },
   "outputs": [],
   "source": [
    "print(f\"Number of augmented training samples: {len(X_train) * 8}\")\n",
    "print(f\"Number of augmented validation samples: {len(X_valid)* 8}\")\n",
    "print(f\"Number of augmented testing samples: {len(X_test)* 8}\")"
   ]
  },
  {
   "cell_type": "markdown",
   "metadata": {
    "colab_type": "text",
    "id": "S9XaKzTZqpW0"
   },
   "source": [
    "Create a DataLoader for each set with batch size of 4 and shuffling enabled"
   ]
  },
  {
   "cell_type": "code",
   "execution_count": null,
   "metadata": {
    "colab": {},
    "colab_type": "code",
    "id": "-5Eil06jrRUT"
   },
   "outputs": [],
   "source": [
    "train_gen = DataLoader(train_set, batch_size=4, shuffle=True, pin_memory=True, num_workers=8)\n",
    "valid_gen = DataLoader(valid_set, batch_size=4, shuffle=True, pin_memory=True, num_workers=8)\n",
    "test_gen = DataLoader(test_set, batch_size=10, shuffle=True, pin_memory=True, num_workers=8)"
   ]
  },
  {
   "cell_type": "markdown",
   "metadata": {
    "colab_type": "text",
    "id": "VE1aH9bJq1HD"
   },
   "source": [
    "Get device to set the training to run on GPU or CPU later based on its availibility"
   ]
  },
  {
   "cell_type": "code",
   "execution_count": null,
   "metadata": {
    "colab": {},
    "colab_type": "code",
    "id": "ka_a8OAPtNHY"
   },
   "outputs": [],
   "source": [
    "device_name = \"cuda:0:\" if torch.cuda.is_available() else \"cpu\"\n",
    "device = torch.device(device_name)"
   ]
  },
  {
   "cell_type": "markdown",
   "metadata": {
    "colab_type": "text",
    "id": "eHncA4uwrAnB"
   },
   "source": [
    "## Build the Model\n",
    "\n",
    "* Instantiate the transfer learning model using torchvision's models class.\n",
    "\n",
    "* RESNET50 is the CNN model that we're going to use by transfer learning.\n",
    "\n",
    "* Set all the pretrained weights to trainable by enabling every layer's parameters as true\n",
    "\n",
    "* Build the top layer by creating a custom output sequential layer and assign it to model's fc."
   ]
  },
  {
   "cell_type": "code",
   "execution_count": null,
   "metadata": {
    "colab": {
     "base_uri": "https://localhost:8080/",
     "height": 1000
    },
    "colab_type": "code",
    "id": "Lq3_lCEttAJk",
    "outputId": "feb12130-9d1d-4c44-d546-6327f266745a"
   },
   "outputs": [],
   "source": [
    "# instantiate transfer learning model\n",
    "resnet_model = models.resnet50(pretrained=True)\n",
    "\n",
    "# set all paramters as trainable\n",
    "for param in resnet_model.parameters():\n",
    "    param.requires_grad = True\n",
    "\n",
    "# get input of fc layer\n",
    "n_inputs = resnet_model.fc.in_features\n",
    "\n",
    "# redefine fc layer / top layer/ head for our classification problem\n",
    "resnet_model.fc = nn.Sequential(nn.Linear(n_inputs, 2048),\n",
    "                                nn.SELU(),\n",
    "                                nn.Dropout(p=0.4),\n",
    "                                nn.Linear(2048, 2048),\n",
    "                                nn.SELU(),\n",
    "                                nn.Dropout(p=0.4),\n",
    "                                nn.Linear(2048, 4),\n",
    "                                nn.LogSigmoid())\n",
    "\n",
    "# set all paramters of the model as trainable\n",
    "for name, child in resnet_model.named_children():\n",
    "  for name2, params in child.named_parameters():\n",
    "    params.requires_grad = True\n",
    "\n",
    "# set model to run on GPU or CPU absed on availibility\n",
    "resnet_model.to(device)\n",
    "\n",
    "# print the trasnfer learning NN model's architecture\n",
    "resnet_model"
   ]
  },
  {
   "cell_type": "markdown",
   "metadata": {
    "colab_type": "text",
    "id": "_QdrEPESsKQi"
   },
   "source": [
    "## Set Training Configuration\n",
    "\n",
    "* Set model's loss function as CrossEntropyLoss\n",
    "\n",
    "* Set SGD optimizer with 0.9 momentum and learning rate 3e-4 as the model's optimizer. According to many Deep learning experts and researchers such as [Andrej karpathy](https://github.com/karpathy) 3e-4 is a good learning rate choice.\n",
    "\n",
    "* Run the model for 10 total iterations\n",
    "\n",
    "* Create empty lists to store training losses, validation losses, training accuracies, and validation accuracies."
   ]
  },
  {
   "cell_type": "code",
   "execution_count": null,
   "metadata": {
    "colab": {},
    "colab_type": "code",
    "id": "cokrpXp3ud8_"
   },
   "outputs": [],
   "source": [
    "# loss function\n",
    "# if GPU is available set loss function to use GPU\n",
    "criterion = nn.CrossEntropyLoss().to(device)\n",
    "\n",
    "# optimizer\n",
    "optimizer = torch.optim.SGD(resnet_model.parameters(), momentum=0.9, lr=3e-4)\n",
    "\n",
    "# number of training iterations\n",
    "epochs = 30\n",
    "\n",
    "# empty lists to store losses and accuracies\n",
    "train_losses = []\n",
    "test_losses = []\n",
    "train_correct = []\n",
    "test_correct = []"
   ]
  },
  {
   "cell_type": "markdown",
   "metadata": {
    "colab_type": "text",
    "id": "7E_rg4eJs7Xq"
   },
   "source": [
    "## Util function\n",
    "\n",
    "### Checkpoint Saver\n",
    "A function to save the model using checkpoints based on best loss achieved during every iteration compared with previous iteration's loss. We'll load the checkpoint and resume training in case Colab's runtime get's disconnected due to inactivity or any other issues."
   ]
  },
  {
   "cell_type": "code",
   "execution_count": null,
   "metadata": {
    "colab": {},
    "colab_type": "code",
    "id": "MnUksQpFNxNK"
   },
   "outputs": [],
   "source": [
    "def save_checkpoint(state, is_best, filename='/content/drive/My Drive/bt_resnet50_ckpt_v2.pth.tar'):\n",
    "    torch.save(state, filename)"
   ]
  },
  {
   "cell_type": "markdown",
   "metadata": {
    "colab_type": "text",
    "id": "Ci1Lw3UgtU13"
   },
   "source": [
    "## Train the model"
   ]
  },
  {
   "cell_type": "code",
   "execution_count": null,
   "metadata": {
    "colab": {
     "base_uri": "https://localhost:8080/",
     "height": 1000
    },
    "colab_type": "code",
    "id": "0TWAlOEau6k7",
    "outputId": "d1c0a256-466f-4420-c9ad-a1bf15630b97"
   },
   "outputs": [],
   "source": [
    "# set training start time\n",
    "start_time = time.time()\n",
    "\n",
    "# set best_prec loss value as 2 for checkpoint threshold\n",
    "best_prec1 = 2\n",
    "\n",
    "# empty batch variables\n",
    "b = None\n",
    "train_b = None\n",
    "test_b = None\n",
    "\n",
    "# start training\n",
    "for i in range(epochs):\n",
    "    # empty training correct and test correct counter as 0 during every iteration\n",
    "    trn_corr = 0\n",
    "    tst_corr = 0\n",
    "    \n",
    "    # set epoch's starting time\n",
    "    e_start = time.time()\n",
    "    \n",
    "    # train in batches\n",
    "    for b, (y, X) in enumerate(train_gen):\n",
    "        # set label as cuda if device is cuda\n",
    "        X, y = X.to(device), y.to(device)\n",
    "\n",
    "        # forward pass image sample\n",
    "        y_pred = resnet_model(X.view(-1, 3, 512, 512))\n",
    "        # calculate loss\n",
    "        loss = criterion(y_pred.float(), torch.argmax(y.view(32, 4), dim=1).long())\n",
    "\n",
    "        # get argmax of predicted tensor, which is our label\n",
    "        predicted = torch.argmax(y_pred, dim=1).data\n",
    "        # if predicted label is correct as true label, calculate the sum for samples\n",
    "        batch_corr = (predicted == torch.argmax(y.view(32, 4), dim=1)).sum()\n",
    "        # increment train correct with correcly predicted labels per batch\n",
    "        trn_corr += batch_corr\n",
    "        \n",
    "        # set optimizer gradients to zero\n",
    "        optimizer.zero_grad()\n",
    "        # back propagate with loss\n",
    "        loss.backward()\n",
    "        # perform optimizer step\n",
    "        optimizer.step()\n",
    "\n",
    "    # set epoch's end time\n",
    "    e_end = time.time()\n",
    "    # print training metrics\n",
    "    print(f'Epoch {(i+1)} Batch {(b+1)*4}\\nAccuracy: {trn_corr.item()*100/(4*8*b):2.2f} %  Loss: {loss.item():2.4f}  Duration: {((e_end-e_start)/60):.2f} minutes') # 4 images per batch * 8 augmentations per image * batch length\n",
    "\n",
    "    # some metrics storage for visualization\n",
    "    train_b = b\n",
    "    train_losses.append(loss)\n",
    "    train_correct.append(trn_corr)\n",
    "\n",
    "    X, y = None, None\n",
    "\n",
    "    # validate using validation generator\n",
    "    # do not perform any gradient updates while validation\n",
    "    with torch.no_grad():\n",
    "        for b, (y, X) in enumerate(valid_gen):\n",
    "            # set label as cuda if device is cuda\n",
    "            X, y = X.to(device), y.to(device)\n",
    "\n",
    "            # forward pass image\n",
    "            y_val = resnet_model(X.view(-1, 3, 512, 512))\n",
    "\n",
    "            # get argmax of predicted tensor, which is our label\n",
    "            predicted = torch.argmax(y_val, dim=1).data\n",
    "\n",
    "            # increment test correct with correcly predicted labels per batch\n",
    "            tst_corr += (predicted == torch.argmax(y.view(32, 4), dim=1)).sum()\n",
    "\n",
    "    # get loss of validation set\n",
    "    loss = criterion(y_val.float(), torch.argmax(y.view(32, 4), dim=1).long())\n",
    "    # print validation metrics\n",
    "    print(f'Validation Accuracy {tst_corr.item()*100/(4*8*b):2.2f} Validation Loss: {loss.item():2.4f}\\n')\n",
    "\n",
    "    # if current validation loss is less than previous iteration's validatin loss create and save a checkpoint\n",
    "    is_best = loss < best_prec1\n",
    "    best_prec1 = min(loss, best_prec1)\n",
    "    save_checkpoint({\n",
    "            'epoch': i + 1,\n",
    "            'state_dict': resnet_model.state_dict(),\n",
    "            'best_prec1': best_prec1,\n",
    "        }, is_best)\n",
    "\n",
    "    # some metrics storage for visualization\n",
    "    test_b  = b\n",
    "    test_losses.append(loss)\n",
    "    test_correct.append(tst_corr)\n",
    "\n",
    "# set total training's end time\n",
    "end_time = time.time() - start_time    \n",
    "\n",
    "# print training summary\n",
    "print(\"\\nTraining Duration {:.2f} minutes\".format(end_time/60))\n",
    "print(\"GPU memory used : {} kb\".format(torch.cuda.memory_allocated()))\n",
    "print(\"GPU memory cached : {} kb\".format(torch.cuda.memory_cached()))"
   ]
  },
  {
   "cell_type": "code",
   "execution_count": null,
   "metadata": {
    "colab": {},
    "colab_type": "code",
    "id": "U5hiXkZkwW-W"
   },
   "outputs": [],
   "source": [
    "torch.cuda.empty_cache()"
   ]
  },
  {
   "cell_type": "markdown",
   "metadata": {
    "colab_type": "text",
    "id": "9Rzl2f2kteb8"
   },
   "source": [
    "## Save the model\n",
    "\n",
    "Save the model after the training is completed"
   ]
  },
  {
   "cell_type": "code",
   "execution_count": null,
   "metadata": {
    "colab": {},
    "colab_type": "code",
    "id": "K4yzcJMmwPnY"
   },
   "outputs": [],
   "source": [
    "torch.save(resnet_model.state_dict(), '/content/drive/My Drive/bt_resnet50_model.pt')"
   ]
  },
  {
   "cell_type": "markdown",
   "metadata": {
    "colab_type": "text",
    "id": "Q-2R8Yputlvh"
   },
   "source": [
    "## Evaluation"
   ]
  },
  {
   "cell_type": "markdown",
   "metadata": {
    "colab_type": "text",
    "id": "hPEBr7E1tobU"
   },
   "source": [
    "Print the validation accuracy of the model calculated using validation set during training "
   ]
  },
  {
   "cell_type": "code",
   "execution_count": null,
   "metadata": {
    "colab": {
     "base_uri": "https://localhost:8080/",
     "height": 34
    },
    "colab_type": "code",
    "id": "4w0EuNLQvmNV",
    "outputId": "685ce068-21f1-4419-c278-555cde282b40"
   },
   "outputs": [],
   "source": [
    "print(f'Validation accuracy: {test_correct[-1].item()*100/(test_b*8*4):.2f}%')"
   ]
  },
  {
   "cell_type": "markdown",
   "metadata": {
    "colab_type": "text",
    "id": "EnauSi8Dt04I"
   },
   "source": [
    "Plot the loss graph"
   ]
  },
  {
   "cell_type": "code",
   "execution_count": null,
   "metadata": {
    "colab": {
     "base_uri": "https://localhost:8080/",
     "height": 294
    },
    "colab_type": "code",
    "id": "TttSopdFvtr0",
    "outputId": "6bc80323-bb7c-4a70-eae5-544ed8c363fb"
   },
   "outputs": [],
   "source": [
    "plt.plot(train_losses, label='Training loss')\n",
    "plt.plot(test_losses, label='Validation loss')\n",
    "plt.title('Loss Metrics')\n",
    "plt.ylabel('Loss')\n",
    "plt.xlabel('Epochs')\n",
    "plt.legend()\n",
    "plt.show()"
   ]
  },
  {
   "cell_type": "markdown",
   "metadata": {
    "colab_type": "text",
    "id": "8L-_dup0uCl5"
   },
   "source": [
    "Plot the accuracy graph\n",
    "\n",
    "* Training set - Total length of training samples divided by 100 for every trained sample\n",
    "\n",
    "  * `int((2144 * 8)/100) = int(171.52) = 171`\n",
    "\n",
    "* Testing set - Total length of testing samples divided by 100 for every testing sample\n",
    "\n",
    "  * `int((460 * 8)/100) = int(36.8) = 36`\n",
    "\n",
    "\n"
   ]
  },
  {
   "cell_type": "code",
   "execution_count": null,
   "metadata": {
    "colab": {
     "base_uri": "https://localhost:8080/",
     "height": 312
    },
    "colab_type": "code",
    "id": "YKzECNFZvx9u",
    "outputId": "7a995797-5511-4b7d-8227-ea9af093cc18"
   },
   "outputs": [],
   "source": [
    "plt.plot([t/171 for t in train_correct], label='Training accuracy')\n",
    "plt.plot([t/36 for t in test_correct], label='Validation accuracy')\n",
    "plt.title('Accuracy Metrics')\n",
    "plt.ylabel('Accuracy')\n",
    "plt.xlabel('Epochs')\n",
    "plt.legend()\n",
    "plt.show()"
   ]
  },
  {
   "cell_type": "markdown",
   "metadata": {
    "colab_type": "text",
    "id": "nEKbGLWsIt6P"
   },
   "source": [
    "Empty out training set and validation set to free up RAM / Cache"
   ]
  },
  {
   "cell_type": "code",
   "execution_count": null,
   "metadata": {
    "colab": {},
    "colab_type": "code",
    "id": "SsVJuIwych21"
   },
   "outputs": [],
   "source": [
    "# resnet_model.load_state_dict(torch.load('/content/drive/My Drive/bt_resnet_torch.pt'))\n",
    "train_gen = None\n",
    "valid_gen = None\n",
    "train_set = None\n",
    "valid_set = None"
   ]
  },
  {
   "cell_type": "markdown",
   "metadata": {
    "colab_type": "text",
    "id": "LfVhP2dmvdoi"
   },
   "source": [
    "Set model to evaluation mode\n",
    "\n",
    "Calculate loss, correctly classified samples, predicted values, labels and store them in a list using test dataloader"
   ]
  },
  {
   "cell_type": "code",
   "execution_count": null,
   "metadata": {
    "colab": {
     "base_uri": "https://localhost:8080/",
     "height": 34
    },
    "colab_type": "code",
    "id": "WZJ7w9ztv1pb",
    "outputId": "e59c6347-59f8-42e8-aff4-c95e2567f495"
   },
   "outputs": [],
   "source": [
    "# set model to evaluation mode\n",
    "resnet_model.eval()\n",
    "\n",
    "# perform no gradient updates\n",
    "with torch.no_grad():\n",
    "    # soem metrics storage for visualization and analysis\n",
    "    correct = 0\n",
    "    test_loss = []\n",
    "    test_corr = []\n",
    "    labels = []\n",
    "    pred = []\n",
    "    # perform test set evaluation batch wise\n",
    "    for (y, X) in test_gen:\n",
    "        # set label to use CUDA if available\n",
    "        X, y = X.to(device), y.to(device)\n",
    "\n",
    "        # append original labels\n",
    "        labels.append(torch.argmax(y.view(10 * 8, 4), dim=1).data)\n",
    "\n",
    "        # perform forward pass\n",
    "        y_val = resnet_model(X.view(-1, 3, 512, 512))\n",
    "\n",
    "        # get argmax of predicted values, which is our label\n",
    "        predicted = torch.argmax(y_val, dim=1).data\n",
    "        # append predicted label\n",
    "        pred.append(predicted)\n",
    "\n",
    "        # calculate loss\n",
    "        loss = criterion(y_val.float(), torch.argmax(y.view(10 * 8, 4), dim=1).long())\n",
    "\n",
    "        # increment correct with correcly predicted labels per batch\n",
    "        correct += (predicted == torch.argmax(y.view(10 * 8, 4), dim=1)).sum()\n",
    "\n",
    "        # append correct samples labels and losses\n",
    "        test_corr.append(correct)\n",
    "        test_loss.append(loss)\n",
    "        \n",
    "print(f\"Test Loss: {test_loss[-1].item():.4f}\")"
   ]
  },
  {
   "cell_type": "markdown",
   "metadata": {
    "colab_type": "text",
    "id": "AqDm19ZSvyY2"
   },
   "source": [
    "Print the test accuracy\n"
   ]
  },
  {
   "cell_type": "code",
   "execution_count": null,
   "metadata": {
    "colab": {
     "base_uri": "https://localhost:8080/",
     "height": 34
    },
    "colab_type": "code",
    "id": "HJm2yjzHbLlP",
    "outputId": "7b227ca6-3d4d-44cd-a030-a0e0cc8d744e"
   },
   "outputs": [],
   "source": [
    "print(f'Test accuracy: {test_corr[-1].item()*100/(460*8):.2f}%')"
   ]
  },
  {
   "cell_type": "markdown",
   "metadata": {
    "colab_type": "text",
    "id": "T6fxSb68v0uf"
   },
   "source": [
    "Convert list of tensors to tensors"
   ]
  },
  {
   "cell_type": "code",
   "execution_count": null,
   "metadata": {
    "colab": {},
    "colab_type": "code",
    "id": "jDRv0IhThKhP"
   },
   "outputs": [],
   "source": [
    "labels = torch.stack(labels)\n",
    "pred = torch.stack(pred)"
   ]
  },
  {
   "cell_type": "markdown",
   "metadata": {
    "colab_type": "text",
    "id": "Ps2QnU4ov4Sr"
   },
   "source": [
    "Define ground-truth labels as a list"
   ]
  },
  {
   "cell_type": "code",
   "execution_count": null,
   "metadata": {
    "colab": {},
    "colab_type": "code",
    "id": "7BsASCMlL2_z"
   },
   "outputs": [],
   "source": [
    "LABELS = ['Meningioma', 'Glioma', 'Pitutary']"
   ]
  },
  {
   "cell_type": "markdown",
   "metadata": {
    "colab_type": "text",
    "id": "wubHPKqov61w"
   },
   "source": [
    "Plot the confusion matrix"
   ]
  },
  {
   "cell_type": "code",
   "execution_count": null,
   "metadata": {
    "colab": {
     "base_uri": "https://localhost:8080/",
     "height": 387
    },
    "colab_type": "code",
    "id": "3cfoG8Q0gMKZ",
    "outputId": "95a96f4c-bf40-4efd-a0f2-31d5606c657a"
   },
   "outputs": [],
   "source": [
    "arr = confusion_matrix(pred.view(-1).cpu(), labels.view(-1).cpu())\n",
    "df_cm = pd.DataFrame(arr, LABELS, LABELS)\n",
    "plt.figure(figsize = (9,6))\n",
    "sns.heatmap(df_cm, annot=True, fmt=\"d\", cmap='viridis')\n",
    "plt.xlabel(\"Prediction\")\n",
    "plt.ylabel(\"Target\")\n",
    "plt.show()"
   ]
  },
  {
   "cell_type": "markdown",
   "metadata": {
    "colab_type": "text",
    "id": "kHhrPo6Tv9Xc"
   },
   "source": [
    "Print the classification report"
   ]
  },
  {
   "cell_type": "code",
   "execution_count": null,
   "metadata": {
    "colab": {
     "base_uri": "https://localhost:8080/",
     "height": 230
    },
    "colab_type": "code",
    "id": "MNWrpWVXL_pQ",
    "outputId": "4dd25c3d-45e9-4c8c-cf56-11c58a41cecd"
   },
   "outputs": [],
   "source": [
    "print(f\"Clasification Report\\n\\n{classification_report(pred.view(-1).cpu(), labels.view(-1).cpu())}\")"
   ]
  },
  {
   "cell_type": "markdown",
   "metadata": {
    "colab_type": "text",
    "id": "N5xUvujSwBQc"
   },
   "source": [
    "Print the Jaccard Similarity score / Index (Accuracy)"
   ]
  },
  {
   "cell_type": "code",
   "execution_count": null,
   "metadata": {
    "colab": {
     "base_uri": "https://localhost:8080/",
     "height": 125
    },
    "colab_type": "code",
    "id": "WXiYK3JxMC3F",
    "outputId": "f4288b40-ded1-491d-b242-6c052b3dcbc6"
   },
   "outputs": [],
   "source": [
    "print(f\"Jaccard Index\\n\\n{round(jaccard_similarity_score(pred.view(-1).cpu(), labels.view(-1).cpu()), 2)}\")"
   ]
  },
  {
   "cell_type": "markdown",
   "metadata": {
    "colab_type": "text",
    "id": "Qw0YkS8kbs8q"
   },
   "source": [
    "We've got around 99% test accuracy which is really good. "
   ]
  },
  {
   "cell_type": "markdown",
   "metadata": {
    "colab_type": "text",
    "id": "HOzZqnNq2EyF"
   },
   "source": [
    "## Future Scopes\n",
    "\n",
    "* The model will be deployed using python flask server as a website, so anyone could an upload MRI image of brain and find out what kinda tumor is present (if any).\n",
    "\n",
    "* Tumor detection will be added in future to locate where the tumor is present in the given MRI image of the brain.\n",
    "\n",
    "* Will add more sophisticated regularization techniques to prevent slight overfitting and increase accuracy upto 100 %."
   ]
  }
 ],
 "metadata": {
  "accelerator": "GPU",
  "colab": {
   "collapsed_sections": [],
   "name": "brain_tumor_classifier_resnet_torch.ipynb",
   "provenance": []
  },
  "kernelspec": {
   "display_name": "Python 3 (ipykernel)",
   "language": "python",
   "name": "python3"
  },
  "language_info": {
   "codemirror_mode": {
    "name": "ipython",
    "version": 3
   },
   "file_extension": ".py",
   "mimetype": "text/x-python",
   "name": "python",
   "nbconvert_exporter": "python",
   "pygments_lexer": "ipython3",
   "version": "3.11.3"
  }
 },
 "nbformat": 4,
 "nbformat_minor": 4
}
