{
  "cells": [
    {
      "cell_type": "markdown",
      "metadata": {
        "id": "43754Epan7bx"
      },
      "source": [
        "# Brain Tumor Classification\n",
        "\n",
        "A Brain Tumor Classifier using fine-tuned ResNet50 Neural Network architecture with almost 99 % Accuracy achieved by applying the method of Transfer Learning.\n",
        "\n",
        "Given an MRI image of brain, classify the tumor into **Meningioma, Glioma, and Pitutary**, if present.\n",
        "\n",
        "Project done using Google Colab with follwing specifications:\n",
        "\n",
        "* Ubuntu 18.04 64-bit OS\n",
        "* 12 GB DDR4 RAM\n",
        "* 16 GB NVidia P100 GPU\n",
        "* 40 GB of Non-Persistent Storage\n",
        "\n",
        "Refer [brain_tumor_dataset_preparation.ipynb](brain_tumor_dataset_preparation.ipynb) for dataset preparation & pre-processing that we did."
      ]
    },
    {
      "cell_type": "markdown",
      "metadata": {
        "id": "s4k9AZlhoVgg"
      },
      "source": [
        "## Import Necessary Libraries\n",
        "\n",
        "We'll be using the following libraries to complete our classification problem:\n",
        "\n",
        "* Numpy - For linear algebra operations\n",
        "* Torch - Pytorch Deep Learning Framework\n",
        "* Torch NN - Neural network class from Pytorch library\n",
        "* Torch NN Functional - Functional Neural Network class from Pytorch library\n",
        "* Torch Utils Data: DataLoader, Dataset - Dataset class used to create custom dataset class by subclassing it and DataLoader is used to laod data in batches using dataset class in real-time.\n",
        "* Torchvision: Transforms, Models - Trochvision provides augmentation techniques using transforms class and transfer learning models are available in models class\n",
        "* OS - To use Operating System methods\n",
        "* Random - To set random seed at specific places where random operations take place just so it happens the same way everytime it is executed\n",
        "* Pandas - To create DataFrame, CSV files, etc\n",
        "* Time - To perform date time operations\n",
        "* Seaborn - For sophisticated visualization\n",
        "* Pickle - To save and load binary files of our training data\n",
        "* Scikit-Learn - For evaluating our Classifier and for cross-validation split\n",
        "* Matplotlib - To visualize images, losses and accuracy\n",
        "* Google Colab Drive - To mount Google Drive so we can perform storage and loading operations using it\n",
        "\n",
        "To install the requirements, refer [requirements.txt](requirements.txt) file\n",
        "\n",
        " `pip3 install -r requirements.txt`\n",
        "                      \n",
        "Let's go ahead and import the required libraries"
      ]
    },
    {
      "cell_type": "code",
      "execution_count": 2,
      "metadata": {
        "id": "ppY0E2oBcXNu"
      },
      "outputs": [],
      "source": [
        "import torch\n",
        "import torch.nn as nn\n",
        "import torch.nn.functional as F\n",
        "from torch.utils.data import DataLoader, Dataset\n",
        "from torchvision import transforms, models\n",
        "from torchvision.utils import make_grid\n",
        "import os\n",
        "import random\n",
        "import numpy as np\n",
        "import pandas as pd\n",
        "import pickle\n",
        "import time\n",
        "import matplotlib.pyplot as plt\n",
        "import seaborn as sns\n",
        "from sklearn.model_selection import train_test_split\n",
        "from sklearn.metrics import confusion_matrix, classification_report, jaccard_score\n",
        "from google.colab import drive"
      ]
    },
    {
      "cell_type": "markdown",
      "metadata": {
        "id": "YyPnviwkoaRh"
      },
      "source": [
        "Print Pytorch's version"
      ]
    },
    {
      "cell_type": "code",
      "execution_count": 3,
      "metadata": {
        "colab": {
          "base_uri": "https://localhost:8080/",
          "height": 35
        },
        "id": "uY8S0R76sj90",
        "outputId": "caeaa89d-8b66-4e07-b483-bb31bc24b10f"
      },
      "outputs": [
        {
          "output_type": "execute_result",
          "data": {
            "text/plain": [
              "'2.2.1+cu121'"
            ],
            "application/vnd.google.colaboratory.intrinsic+json": {
              "type": "string"
            }
          },
          "metadata": {},
          "execution_count": 3
        }
      ],
      "source": [
        "torch.__version__"
      ]
    },
    {
      "cell_type": "markdown",
      "metadata": {
        "id": "8uWrMvwCbmsw"
      },
      "source": [
        "Check GPU"
      ]
    },
    {
      "cell_type": "code",
      "execution_count": 4,
      "metadata": {
        "colab": {
          "base_uri": "https://localhost:8080/"
        },
        "id": "4NKtY3ESbmSl",
        "outputId": "b3e11fbf-d02d-4f94-d3cb-7e90bf850475"
      },
      "outputs": [
        {
          "output_type": "stream",
          "name": "stdout",
          "text": [
            "Thu Apr 11 20:51:06 2024       \n",
            "+---------------------------------------------------------------------------------------+\n",
            "| NVIDIA-SMI 535.104.05             Driver Version: 535.104.05   CUDA Version: 12.2     |\n",
            "|-----------------------------------------+----------------------+----------------------+\n",
            "| GPU  Name                 Persistence-M | Bus-Id        Disp.A | Volatile Uncorr. ECC |\n",
            "| Fan  Temp   Perf          Pwr:Usage/Cap |         Memory-Usage | GPU-Util  Compute M. |\n",
            "|                                         |                      |               MIG M. |\n",
            "|=========================================+======================+======================|\n",
            "|   0  Tesla T4                       Off | 00000000:00:04.0 Off |                    0 |\n",
            "| N/A   53C    P8              10W /  70W |      0MiB / 15360MiB |      0%      Default |\n",
            "|                                         |                      |                  N/A |\n",
            "+-----------------------------------------+----------------------+----------------------+\n",
            "                                                                                         \n",
            "+---------------------------------------------------------------------------------------+\n",
            "| Processes:                                                                            |\n",
            "|  GPU   GI   CI        PID   Type   Process name                            GPU Memory |\n",
            "|        ID   ID                                                             Usage      |\n",
            "|=======================================================================================|\n",
            "|  No running processes found                                                           |\n",
            "+---------------------------------------------------------------------------------------+\n"
          ]
        }
      ],
      "source": [
        "!nvidia-smi"
      ]
    },
    {
      "cell_type": "markdown",
      "metadata": {
        "id": "mQ_bNRuloctt"
      },
      "source": [
        "Import Google Drive for persistent storage of our training data, neural network model weights and other required files."
      ]
    },
    {
      "cell_type": "code",
      "execution_count": 5,
      "metadata": {
        "colab": {
          "base_uri": "https://localhost:8080/"
        },
        "id": "SMpvVU6Tq2jy",
        "outputId": "7fd57e45-0944-4370-91c8-bc31a2f9bd8d"
      },
      "outputs": [
        {
          "output_type": "stream",
          "name": "stdout",
          "text": [
            "Mounted at /content/drive\n"
          ]
        }
      ],
      "source": [
        "drive.mount('/content/drive')"
      ]
    },
    {
      "cell_type": "markdown",
      "metadata": {
        "id": "go-hqw0wokrN"
      },
      "source": [
        "Empty GPU's memory/cache for training so we'd clear garbage values in it and more memory will be available"
      ]
    },
    {
      "cell_type": "code",
      "execution_count": 6,
      "metadata": {
        "id": "XOjZidblq5JL"
      },
      "outputs": [],
      "source": [
        "torch.cuda.empty_cache()"
      ]
    },
    {
      "cell_type": "markdown",
      "metadata": {
        "id": "zjPKpYJTooMG"
      },
      "source": [
        "## Custom Dataset Class\n",
        "\n",
        "Create a custom dataset class that augments each image into 4 different angles: 0, 45, 90, 120, 180, 270, 300, 330 degrees. Fuse it with Pytorch's DataLoader class so data can be loaded, augmented and trained in realtime instead of caching all training samples in memory for augmenting."
      ]
    },
    {
      "cell_type": "code",
      "execution_count": 7,
      "metadata": {
        "id": "V4PuME0qmFvZ"
      },
      "outputs": [],
      "source": [
        "import cv2\n",
        "class BrainTumorDataset(Dataset):\n",
        "  def __init__(self, images, labels):\n",
        "    # images\n",
        "    self.X = images\n",
        "    # labels\n",
        "    self.y = labels\n",
        "\n",
        "    # Transformation for converting original image array to an image and then convert it to a tensor\n",
        "    self.transform = transforms.Compose([transforms.ToPILImage(),\n",
        "        transforms.ToTensor()\n",
        "    ])\n",
        "\n",
        "    # Transformation for converting original image array to an image, rotate it randomly between -45 degrees and 45 degrees, and then convert it to a tensor\n",
        "    self.transform1 = transforms.Compose([\n",
        "        transforms.ToPILImage(),\n",
        "        transforms.RandomRotation(45),\n",
        "        transforms.ToTensor()\n",
        "    ])\n",
        "\n",
        "    # Transformation for converting original image array to an image, rotate it randomly between -90 degrees and 90 degrees, and then convert it to a tensor\n",
        "    self.transform2 = transforms.Compose([\n",
        "        transforms.ToPILImage(),\n",
        "        transforms.RandomRotation(90),\n",
        "        transforms.ToTensor()\n",
        "    ])\n",
        "\n",
        "    # Transformation for converting original image array to an image, rotate it randomly between -120 degrees and 120 degrees, and then convert it to a tensor\n",
        "    self.transform3 = transforms.Compose([\n",
        "        transforms.ToPILImage(),\n",
        "        transforms.RandomRotation(120),\n",
        "        transforms.ToTensor()\n",
        "    ])\n",
        "\n",
        "    # Transformation for converting original image array to an image, rotate it randomly between -180 degrees and 180 degrees, and then convert it to a tensor\n",
        "    self.transform4 = transforms.Compose([\n",
        "        transforms.ToPILImage(),\n",
        "        transforms.RandomRotation(180),\n",
        "        transforms.ToTensor()\n",
        "    ])\n",
        "\n",
        "    # Transformation for converting original image array to an image, rotate it randomly between -270 degrees and 270 degrees, and then convert it to a tensor\n",
        "    self.transform5 = transforms.Compose([\n",
        "        transforms.ToPILImage(),\n",
        "        transforms.RandomRotation(270),\n",
        "        transforms.ToTensor()\n",
        "    ])\n",
        "\n",
        "    # Transformation for converting original image array to an image, rotate it randomly between -300 degrees and 300 degrees, and then convert it to a tensor\n",
        "    self.transform6 = transforms.Compose([\n",
        "        transforms.ToPILImage(),\n",
        "        transforms.RandomRotation(300),\n",
        "        transforms.ToTensor()\n",
        "    ])\n",
        "\n",
        "    # Transformation for converting original image array to an image, rotate it randomly between -330 degrees and 330 degrees, and then convert it to a tensor\n",
        "    self.transform7 = transforms.Compose([\n",
        "        transforms.ToPILImage(),\n",
        "        transforms.RandomRotation(330),\n",
        "        transforms.ToTensor()\n",
        "    ])\n",
        "\n",
        "  def __len__(self):\n",
        "    # return length of image samples\n",
        "    return len(self.X)\n",
        "\n",
        "  def __getitem__(self, idx):\n",
        "    # perform transformations on one instance of X\n",
        "    # Original image as a tensor\n",
        "    original = self.X[idx]\n",
        "    original = cv2.resize(original, (224, 224))\n",
        "\n",
        "    data = self.transform(original)\n",
        "\n",
        "    # Augmented image at 45 degrees as a tensor\n",
        "    aug45 = self.transform1(original)\n",
        "\n",
        "    # Augmented image at 90 degrees as a tensor\n",
        "    aug90 = self.transform2(original)\n",
        "\n",
        "    # Augmented image at 120 degrees as a tensor\n",
        "    aug120 = self.transform3(original)\n",
        "\n",
        "    # Augmented image at 180 degrees as a tensor\n",
        "    aug180 = self.transform4(original)\n",
        "\n",
        "    # Augmented image at 270 degrees as a tensor\n",
        "    aug270 = self.transform5(original)\n",
        "\n",
        "    # Augmented image at 300 degrees as a tensor\n",
        "    aug300 = self.transform6(original)\n",
        "\n",
        "    # Augmented image at 330 degrees as a tensor\n",
        "    aug330 = self.transform7(original)\n",
        "\n",
        "    # store the transformed images in a list\n",
        "    new_batch = [data, aug45, aug90, aug120, aug180, aug270, aug300, aug330]\n",
        "\n",
        "    # one-hot encode the labels\n",
        "    labels = torch.zeros(4, dtype=torch.float32)\n",
        "    labels[int(self.y[idx])] = 1.0\n",
        "\n",
        "    new_labels = [labels, labels, labels, labels, labels, labels, labels, labels]\n",
        "\n",
        "    # 8 augmented images and corresponding labels per sample will be returned\n",
        "    return (torch.stack(new_labels), torch.stack(new_batch))"
      ]
    },
    {
      "cell_type": "markdown",
      "metadata": {
        "id": "zE6mTnC6pQRD"
      },
      "source": [
        "## Load the Dataset\n",
        "\n",
        "* Load the **training_data.pickle** file.\n",
        "\n",
        "* Store the images and labels in separate lists called Xt & yt."
      ]
    },
    {
      "cell_type": "code",
      "execution_count": 10,
      "metadata": {
        "id": "trcS9hq8q7Dq"
      },
      "outputs": [],
      "source": [
        "training_data = pickle.load(open('/content/drive/MyDrive/Colab Notebooks/new_dataset/training_data.pickle', 'rb'))\n",
        "#training_data = pickle.load(open('/content/drive/MyDrive/Rutuja/training_data.pickle', 'rb'))\n",
        "\n"
      ]
    },
    {
      "cell_type": "markdown",
      "metadata": {
        "id": "-FUX5SScHhEg"
      },
      "source": [
        "Create empty lists for storing our data"
      ]
    },
    {
      "cell_type": "code",
      "execution_count": 11,
      "metadata": {
        "id": "hY6k--StlVAC"
      },
      "outputs": [],
      "source": [
        "Xt = []\n",
        "yt = []\n",
        "features = None\n",
        "labels = None\n",
        "label = []"
      ]
    },
    {
      "cell_type": "markdown",
      "metadata": {
        "id": "chU6n1FDHllX"
      },
      "source": [
        "Store images in Xt and labels in yt iteratively"
      ]
    },
    {
      "cell_type": "code",
      "execution_count": 12,
      "metadata": {
        "id": "9gQx6_RtlwfE"
      },
      "outputs": [],
      "source": [
        "for features,labels in training_data:\n",
        "  Xt.append(features)\n",
        "  yt.append(labels)"
      ]
    },
    {
      "cell_type": "markdown",
      "metadata": {
        "id": "QOlU2ZoCpitc"
      },
      "source": [
        "## Train Validation Test split\n",
        "\n",
        "Split the dataset for training using cross-validation method.\n",
        "\n",
        "* 70 % of images for training\n",
        "* 15% of images for validating\n",
        "* 15% of images for testing\n",
        "\n",
        "Set random seed and random_state to any arbitrary number, so the train_test_split happens the same way everytime the function is called."
      ]
    },
    {
      "cell_type": "code",
      "execution_count": 13,
      "metadata": {
        "id": "wxT6Znuul5Kq"
      },
      "outputs": [],
      "source": [
        "# 70 % training, 15% validating, 15% testing\n",
        "X_train, X_test, y_train, y_test = train_test_split(Xt, yt, test_size=0.3, shuffle=True)  # 70% training, 30% testing\n",
        "X_valid, X_test, y_valid, y_test = train_test_split(X_test, y_test, test_size=0.5, shuffle=True)  # split testing set into 50% validation , 50% testing"
      ]
    },
    {
      "cell_type": "markdown",
      "metadata": {
        "id": "BWlXaeaVqINY"
      },
      "source": [
        "Empty the previously used lists and arrays to free up RAM / Cache"
      ]
    },
    {
      "cell_type": "code",
      "execution_count": 14,
      "metadata": {
        "id": "34qYiYRlJoXH"
      },
      "outputs": [],
      "source": [
        "Xt = None\n",
        "yt = None\n",
        "features = None\n",
        "labels = None\n",
        "label = None\n",
        "training_data = None"
      ]
    },
    {
      "cell_type": "markdown",
      "metadata": {
        "id": "oKlDZh7VqaJj"
      },
      "source": [
        "Create training set, validation set and test set using our custom dataset class"
      ]
    },
    {
      "cell_type": "code",
      "execution_count": 15,
      "metadata": {
        "id": "rnTKHLR5mCeI"
      },
      "outputs": [],
      "source": [
        "train_set = BrainTumorDataset(X_train, y_train)\n",
        "valid_set = BrainTumorDataset(X_valid, y_valid)\n",
        "test_set = BrainTumorDataset(X_test, y_test)"
      ]
    },
    {
      "cell_type": "markdown",
      "metadata": {
        "id": "tfWO3u4YqiUP"
      },
      "source": [
        "Print original number of samples in each set"
      ]
    },
    {
      "cell_type": "code",
      "execution_count": 16,
      "metadata": {
        "colab": {
          "base_uri": "https://localhost:8080/"
        },
        "id": "MEL7oQ4Y8NIe",
        "outputId": "01e236f2-cda0-409b-e41a-a3edab5344fe"
      },
      "outputs": [
        {
          "output_type": "stream",
          "name": "stdout",
          "text": [
            "Number of training samples: 2144\n",
            "Number of validation samples: 460\n",
            "Number of testing samples: 460\n"
          ]
        }
      ],
      "source": [
        "print(f\"Number of training samples: {len(X_train)}\")\n",
        "print(f\"Number of validation samples: {len(X_valid)}\")\n",
        "print(f\"Number of testing samples: {len(X_test)}\")"
      ]
    },
    {
      "cell_type": "markdown",
      "metadata": {
        "id": "0udsS0Qqql3g"
      },
      "source": [
        "Print augmented number of samples in each set"
      ]
    },
    {
      "cell_type": "code",
      "execution_count": 17,
      "metadata": {
        "colab": {
          "base_uri": "https://localhost:8080/"
        },
        "id": "8PJu7hjEi0Ij",
        "outputId": "c29e2cd2-e266-4314-dc06-5e290fed8e6b"
      },
      "outputs": [
        {
          "output_type": "stream",
          "name": "stdout",
          "text": [
            "Number of augmented training samples: 17152\n",
            "Number of augmented validation samples: 3680\n",
            "Number of augmented testing samples: 3680\n"
          ]
        }
      ],
      "source": [
        "print(f\"Number of augmented training samples: {len(X_train) * 8}\")\n",
        "print(f\"Number of augmented validation samples: {len(X_valid)* 8}\")\n",
        "print(f\"Number of augmented testing samples: {len(X_test)* 8}\")"
      ]
    },
    {
      "cell_type": "markdown",
      "metadata": {
        "id": "S9XaKzTZqpW0"
      },
      "source": [
        "Create a DataLoader for each set with batch size of 4 and shuffling enabled"
      ]
    },
    {
      "cell_type": "code",
      "execution_count": 18,
      "metadata": {
        "id": "-5Eil06jrRUT"
      },
      "outputs": [],
      "source": [
        "train_gen = DataLoader(train_set, batch_size=4, shuffle=True)\n",
        "valid_gen = DataLoader(valid_set, batch_size=4, shuffle=True)\n",
        "test_gen = DataLoader(test_set, batch_size=10, shuffle=True)"
      ]
    },
    {
      "cell_type": "markdown",
      "metadata": {
        "id": "VE1aH9bJq1HD"
      },
      "source": [
        "Get device to set the training to run on GPU or CPU later based on its availibility"
      ]
    },
    {
      "cell_type": "code",
      "execution_count": 19,
      "metadata": {
        "id": "ka_a8OAPtNHY"
      },
      "outputs": [],
      "source": [
        "device_name = \"cuda:0\" if torch.cuda.is_available() else \"cpu\"\n",
        "device = torch.device(device_name)"
      ]
    },
    {
      "cell_type": "markdown",
      "metadata": {
        "id": "eHncA4uwrAnB"
      },
      "source": [
        "## Build the Model\n",
        "\n",
        "* Instantiate the transfer learning model using torchvision's models class.\n",
        "\n",
        "* RESNET50 is the CNN model that we're going to use by transfer learning.\n",
        "\n",
        "* Set all the pretrained weights to trainable by enabling every layer's parameters as true\n",
        "\n",
        "* Build the top layer by creating a custom output sequential layer and assign it to model's fc."
      ]
    },
    {
      "cell_type": "code",
      "execution_count": 20,
      "metadata": {
        "colab": {
          "base_uri": "https://localhost:8080/"
        },
        "id": "Lq3_lCEttAJk",
        "outputId": "3874fe52-40e0-4748-dc7a-9952927d003a"
      },
      "outputs": [
        {
          "output_type": "stream",
          "name": "stderr",
          "text": [
            "/usr/local/lib/python3.10/dist-packages/torchvision/models/_utils.py:208: UserWarning: The parameter 'pretrained' is deprecated since 0.13 and may be removed in the future, please use 'weights' instead.\n",
            "  warnings.warn(\n",
            "/usr/local/lib/python3.10/dist-packages/torchvision/models/_utils.py:223: UserWarning: Arguments other than a weight enum or `None` for 'weights' are deprecated since 0.13 and may be removed in the future. The current behavior is equivalent to passing `weights=ResNet18_Weights.IMAGENET1K_V1`. You can also use `weights=ResNet18_Weights.DEFAULT` to get the most up-to-date weights.\n",
            "  warnings.warn(msg)\n",
            "Downloading: \"https://download.pytorch.org/models/resnet18-f37072fd.pth\" to /root/.cache/torch/hub/checkpoints/resnet18-f37072fd.pth\n",
            "100%|██████████| 44.7M/44.7M [00:00<00:00, 108MB/s]\n"
          ]
        }
      ],
      "source": [
        "# # instantiate transfer learning model\n",
        "# resnet_model = models.resnet50(pretrained=True)\n",
        "\n",
        "# # set all paramters as trainable\n",
        "# for param in resnet_model.parameters():\n",
        "#     param.requires_grad = False\n",
        "\n",
        "# # get input of fc layer\n",
        "# n_inputs = resnet_model.fc.in_features\n",
        "\n",
        "# # redefine fc layer / top layer/ head for our classification problem\n",
        "# resnet_model.fc = nn.Sequential(nn.Linear(n_inputs, 2048),\n",
        "#                                 nn.SELU(),\n",
        "#                                 nn.Dropout(p=0.4),\n",
        "#                                 # nn.Linear(2048, 2048),\n",
        "#                                 # nn.SELU(),\n",
        "#                                 nn.Dropout(p=0.4),\n",
        "#                                 nn.Linear(2048, 4),\n",
        "#                                 nn.LogSigmoid())\n",
        "\n",
        "# # set all paramters of the model as trainable\n",
        "# for name, child in resnet_model.named_children():\n",
        "#   for name2, params in child.named_parameters():\n",
        "#     params.requires_grad = False\n",
        "\n",
        "# # set model to run on GPU or CPU absed on availibility\n",
        "# resnet_model.to(device)\n",
        "\n",
        "# # print the trasnfer learning NN model's architecture\n",
        "# resnet_model\n",
        "\n",
        "import torch.optim as optim\n",
        "# Load pre-trained ResNet model\n",
        "resnet_model = models.resnet18(pretrained=True)\n",
        "\n",
        "# Freeze ResNet layers\n",
        "for param in resnet_model.parameters():\n",
        "    param.requires_grad = False\n",
        "\n",
        "# Add a fully connected layer with 512 nodes after ResNet layers\n",
        "num_ftrs = resnet_model.fc.in_features\n",
        "resnet_model.fc = nn.Sequential(\n",
        "    nn.Linear(num_ftrs, 512),\n",
        "    nn.ReLU(),\n",
        "    nn.Linear(512, 4)  # Assuming 4 classes for classification\n",
        ")\n",
        "\n",
        "resnet_model.to(device)\n",
        "\n",
        "# Define optimizer\n",
        "optimizer = optim.Adam(resnet_model.fc.parameters(), lr=0.001)  # Only optimize parameters of the classification head\n"
      ]
    },
    {
      "cell_type": "code",
      "source": [
        "# Calculate the number of trainable and non-trainable parameters\n",
        "num_trainable_params = sum(p.numel() for p in resnet_model.parameters() if p.requires_grad)\n",
        "num_non_trainable_params = sum(p.numel() for p in resnet_model.parameters() if not p.requires_grad)\n",
        "\n",
        "print(f\"Number of trainable parameters: {num_trainable_params}\")\n",
        "print(f\"Number of non-trainable parameters: {num_non_trainable_params}\")"
      ],
      "metadata": {
        "colab": {
          "base_uri": "https://localhost:8080/"
        },
        "id": "rBmE2BOg2GMg",
        "outputId": "f2311f4d-45bf-4232-9d93-0b929e6b6f04"
      },
      "execution_count": 21,
      "outputs": [
        {
          "output_type": "stream",
          "name": "stdout",
          "text": [
            "Number of trainable parameters: 264708\n",
            "Number of non-trainable parameters: 11176512\n"
          ]
        }
      ]
    },
    {
      "cell_type": "markdown",
      "metadata": {
        "id": "_QdrEPESsKQi"
      },
      "source": [
        "## Set Training Configuration\n",
        "\n",
        "* Set model's loss function as CrossEntropyLoss\n",
        "\n",
        "* Set SGD optimizer with 0.9 momentum and learning rate 3e-4 as the model's optimizer. According to many Deep learning experts and researchers such as [Andrej karpathy](https://github.com/karpathy) 3e-4 is a good learning rate choice.\n",
        "\n",
        "* Run the model for 10 total iterations\n",
        "\n",
        "* Create empty lists to store training losses, validation losses, training accuracies, and validation accuracies."
      ]
    },
    {
      "cell_type": "code",
      "execution_count": 22,
      "metadata": {
        "id": "cokrpXp3ud8_"
      },
      "outputs": [],
      "source": [
        "# loss function\n",
        "# if GPU is available set loss function to use GPU\n",
        "criterion = nn.CrossEntropyLoss().to(device)\n",
        "\n",
        "# optimizer\n",
        "# optimizer = torch.optim.SGD(resnet_model.parameters(), momentum=0.9, lr=3e-4)\n",
        "\n",
        "# number of training iterations\n",
        "epochs = 30\n",
        "\n",
        "# empty lists to store losses and accuracies\n",
        "train_losses = []\n",
        "test_losses = []\n",
        "train_correct = []\n",
        "test_correct = []"
      ]
    },
    {
      "cell_type": "markdown",
      "metadata": {
        "id": "7E_rg4eJs7Xq"
      },
      "source": [
        "## Util function\n",
        "\n",
        "### Checkpoint Saver\n",
        "A function to save the model using checkpoints based on best loss achieved during every iteration compared with previous iteration's loss. We'll load the checkpoint and resume training in case Colab's runtime get's disconnected due to inactivity or any other issues."
      ]
    },
    {
      "cell_type": "code",
      "execution_count": 23,
      "metadata": {
        "id": "MnUksQpFNxNK"
      },
      "outputs": [],
      "source": [
        "def save_checkpoint(state, is_best, filename='/content/drive/My Drive/bt_resnet50_ckpt_v2.pth.tar'):\n",
        "    torch.save(state, filename)"
      ]
    },
    {
      "cell_type": "markdown",
      "metadata": {
        "id": "Ci1Lw3UgtU13"
      },
      "source": [
        "## Train the model"
      ]
    },
    {
      "cell_type": "code",
      "execution_count": 24,
      "metadata": {
        "colab": {
          "base_uri": "https://localhost:8080/"
        },
        "id": "0TWAlOEau6k7",
        "outputId": "cee9f7b7-6238-42b6-955b-cf5ca86affc2"
      },
      "outputs": [
        {
          "output_type": "stream",
          "name": "stderr",
          "text": [
            "536it [00:28, 18.94it/s]\n"
          ]
        },
        {
          "output_type": "stream",
          "name": "stdout",
          "text": [
            "Epoch 1 Batch 2144\n",
            "Accuracy: 65.24 %  Loss: 1.1319  Duration: 0.47 minutes\n",
            "Validation Accuracy 51.29 Validation Loss: 0.8835\n",
            "\n"
          ]
        },
        {
          "output_type": "stream",
          "name": "stderr",
          "text": [
            "536it [00:26, 19.94it/s]\n"
          ]
        },
        {
          "output_type": "stream",
          "name": "stdout",
          "text": [
            "Epoch 2 Batch 2144\n",
            "Accuracy: 69.80 %  Loss: 0.3234  Duration: 0.45 minutes\n",
            "Validation Accuracy 73.11 Validation Loss: 0.6963\n",
            "\n"
          ]
        },
        {
          "output_type": "stream",
          "name": "stderr",
          "text": [
            "536it [00:28, 18.70it/s]\n"
          ]
        },
        {
          "output_type": "stream",
          "name": "stdout",
          "text": [
            "Epoch 3 Batch 2144\n",
            "Accuracy: 72.09 %  Loss: 0.6655  Duration: 0.48 minutes\n",
            "Validation Accuracy 75.77 Validation Loss: 0.6924\n",
            "\n"
          ]
        },
        {
          "output_type": "stream",
          "name": "stderr",
          "text": [
            "536it [00:28, 19.12it/s]\n"
          ]
        },
        {
          "output_type": "stream",
          "name": "stdout",
          "text": [
            "Epoch 4 Batch 2144\n",
            "Accuracy: 74.81 %  Loss: 0.6740  Duration: 0.47 minutes\n",
            "Validation Accuracy 71.85 Validation Loss: 0.4161\n",
            "\n"
          ]
        },
        {
          "output_type": "stream",
          "name": "stderr",
          "text": [
            "536it [00:26, 19.90it/s]\n"
          ]
        },
        {
          "output_type": "stream",
          "name": "stdout",
          "text": [
            "Epoch 5 Batch 2144\n",
            "Accuracy: 74.56 %  Loss: 0.8441  Duration: 0.45 minutes\n",
            "Validation Accuracy 71.57 Validation Loss: 1.1817\n",
            "\n"
          ]
        },
        {
          "output_type": "stream",
          "name": "stderr",
          "text": [
            "536it [00:27, 19.78it/s]\n"
          ]
        },
        {
          "output_type": "stream",
          "name": "stdout",
          "text": [
            "Epoch 6 Batch 2144\n",
            "Accuracy: 74.95 %  Loss: 0.3497  Duration: 0.45 minutes\n",
            "Validation Accuracy 76.54 Validation Loss: 0.9900\n",
            "\n"
          ]
        },
        {
          "output_type": "stream",
          "name": "stderr",
          "text": [
            "536it [00:26, 20.08it/s]\n"
          ]
        },
        {
          "output_type": "stream",
          "name": "stdout",
          "text": [
            "Epoch 7 Batch 2144\n",
            "Accuracy: 76.12 %  Loss: 0.6372  Duration: 0.44 minutes\n",
            "Validation Accuracy 75.85 Validation Loss: 0.6641\n",
            "\n"
          ]
        },
        {
          "output_type": "stream",
          "name": "stderr",
          "text": [
            "536it [00:27, 19.57it/s]\n"
          ]
        },
        {
          "output_type": "stream",
          "name": "stdout",
          "text": [
            "Epoch 8 Batch 2144\n",
            "Accuracy: 76.79 %  Loss: 0.2084  Duration: 0.46 minutes\n",
            "Validation Accuracy 77.44 Validation Loss: 0.4387\n",
            "\n"
          ]
        },
        {
          "output_type": "stream",
          "name": "stderr",
          "text": [
            "536it [00:27, 19.81it/s]\n"
          ]
        },
        {
          "output_type": "stream",
          "name": "stdout",
          "text": [
            "Epoch 9 Batch 2144\n",
            "Accuracy: 77.98 %  Loss: 0.2615  Duration: 0.45 minutes\n",
            "Validation Accuracy 77.93 Validation Loss: 0.3301\n",
            "\n"
          ]
        },
        {
          "output_type": "stream",
          "name": "stderr",
          "text": [
            "536it [00:27, 19.27it/s]\n"
          ]
        },
        {
          "output_type": "stream",
          "name": "stdout",
          "text": [
            "Epoch 10 Batch 2144\n",
            "Accuracy: 77.61 %  Loss: 0.8958  Duration: 0.46 minutes\n",
            "Validation Accuracy 76.56 Validation Loss: 0.9013\n",
            "\n"
          ]
        },
        {
          "output_type": "stream",
          "name": "stderr",
          "text": [
            "536it [00:26, 19.86it/s]\n"
          ]
        },
        {
          "output_type": "stream",
          "name": "stdout",
          "text": [
            "Epoch 11 Batch 2144\n",
            "Accuracy: 77.48 %  Loss: 0.2540  Duration: 0.45 minutes\n",
            "Validation Accuracy 80.40 Validation Loss: 0.7773\n",
            "\n"
          ]
        },
        {
          "output_type": "stream",
          "name": "stderr",
          "text": [
            "536it [00:27, 19.71it/s]\n"
          ]
        },
        {
          "output_type": "stream",
          "name": "stdout",
          "text": [
            "Epoch 12 Batch 2144\n",
            "Accuracy: 78.20 %  Loss: 0.7018  Duration: 0.45 minutes\n",
            "Validation Accuracy 77.55 Validation Loss: 0.9526\n",
            "\n"
          ]
        },
        {
          "output_type": "stream",
          "name": "stderr",
          "text": [
            "536it [00:26, 20.10it/s]\n"
          ]
        },
        {
          "output_type": "stream",
          "name": "stdout",
          "text": [
            "Epoch 13 Batch 2144\n",
            "Accuracy: 79.39 %  Loss: 0.5934  Duration: 0.44 minutes\n",
            "Validation Accuracy 74.01 Validation Loss: 0.2326\n",
            "\n"
          ]
        },
        {
          "output_type": "stream",
          "name": "stderr",
          "text": [
            "536it [00:26, 19.97it/s]\n"
          ]
        },
        {
          "output_type": "stream",
          "name": "stdout",
          "text": [
            "Epoch 14 Batch 2144\n",
            "Accuracy: 79.12 %  Loss: 0.7222  Duration: 0.45 minutes\n",
            "Validation Accuracy 72.18 Validation Loss: 0.2808\n",
            "\n"
          ]
        },
        {
          "output_type": "stream",
          "name": "stderr",
          "text": [
            "536it [00:26, 19.98it/s]\n"
          ]
        },
        {
          "output_type": "stream",
          "name": "stdout",
          "text": [
            "Epoch 15 Batch 2144\n",
            "Accuracy: 79.05 %  Loss: 0.2974  Duration: 0.45 minutes\n",
            "Validation Accuracy 80.13 Validation Loss: 1.3454\n",
            "\n"
          ]
        },
        {
          "output_type": "stream",
          "name": "stderr",
          "text": [
            "536it [00:26, 19.93it/s]\n"
          ]
        },
        {
          "output_type": "stream",
          "name": "stdout",
          "text": [
            "Epoch 16 Batch 2144\n",
            "Accuracy: 79.85 %  Loss: 0.2970  Duration: 0.45 minutes\n",
            "Validation Accuracy 77.44 Validation Loss: 0.9468\n",
            "\n"
          ]
        },
        {
          "output_type": "stream",
          "name": "stderr",
          "text": [
            "536it [00:26, 20.03it/s]\n"
          ]
        },
        {
          "output_type": "stream",
          "name": "stdout",
          "text": [
            "Epoch 17 Batch 2144\n",
            "Accuracy: 80.54 %  Loss: 0.5979  Duration: 0.45 minutes\n",
            "Validation Accuracy 78.26 Validation Loss: 0.6224\n",
            "\n"
          ]
        },
        {
          "output_type": "stream",
          "name": "stderr",
          "text": [
            "536it [00:26, 19.92it/s]\n"
          ]
        },
        {
          "output_type": "stream",
          "name": "stdout",
          "text": [
            "Epoch 18 Batch 2144\n",
            "Accuracy: 81.37 %  Loss: 0.2447  Duration: 0.45 minutes\n",
            "Validation Accuracy 79.63 Validation Loss: 0.3731\n",
            "\n"
          ]
        },
        {
          "output_type": "stream",
          "name": "stderr",
          "text": [
            "536it [00:27, 19.52it/s]\n"
          ]
        },
        {
          "output_type": "stream",
          "name": "stdout",
          "text": [
            "Epoch 19 Batch 2144\n",
            "Accuracy: 80.29 %  Loss: 0.5200  Duration: 0.46 minutes\n",
            "Validation Accuracy 79.58 Validation Loss: 0.4481\n",
            "\n"
          ]
        },
        {
          "output_type": "stream",
          "name": "stderr",
          "text": [
            "536it [00:27, 19.79it/s]\n"
          ]
        },
        {
          "output_type": "stream",
          "name": "stdout",
          "text": [
            "Epoch 20 Batch 2144\n",
            "Accuracy: 80.84 %  Loss: 0.3281  Duration: 0.45 minutes\n",
            "Validation Accuracy 75.55 Validation Loss: 1.8004\n",
            "\n"
          ]
        },
        {
          "output_type": "stream",
          "name": "stderr",
          "text": [
            "536it [00:27, 19.40it/s]\n"
          ]
        },
        {
          "output_type": "stream",
          "name": "stdout",
          "text": [
            "Epoch 21 Batch 2144\n",
            "Accuracy: 82.36 %  Loss: 1.3591  Duration: 0.46 minutes\n",
            "Validation Accuracy 79.85 Validation Loss: 0.3569\n",
            "\n"
          ]
        },
        {
          "output_type": "stream",
          "name": "stderr",
          "text": [
            "536it [00:26, 20.41it/s]\n"
          ]
        },
        {
          "output_type": "stream",
          "name": "stdout",
          "text": [
            "Epoch 22 Batch 2144\n",
            "Accuracy: 81.41 %  Loss: 0.5272  Duration: 0.44 minutes\n",
            "Validation Accuracy 78.07 Validation Loss: 0.2545\n",
            "\n"
          ]
        },
        {
          "output_type": "stream",
          "name": "stderr",
          "text": [
            "536it [00:26, 20.35it/s]\n"
          ]
        },
        {
          "output_type": "stream",
          "name": "stdout",
          "text": [
            "Epoch 23 Batch 2144\n",
            "Accuracy: 81.50 %  Loss: 0.1105  Duration: 0.44 minutes\n",
            "Validation Accuracy 81.20 Validation Loss: 0.6124\n",
            "\n"
          ]
        },
        {
          "output_type": "stream",
          "name": "stderr",
          "text": [
            "536it [00:26, 20.36it/s]\n"
          ]
        },
        {
          "output_type": "stream",
          "name": "stdout",
          "text": [
            "Epoch 24 Batch 2144\n",
            "Accuracy: 81.48 %  Loss: 0.3033  Duration: 0.44 minutes\n",
            "Validation Accuracy 84.02 Validation Loss: 0.6288\n",
            "\n"
          ]
        },
        {
          "output_type": "stream",
          "name": "stderr",
          "text": [
            "536it [00:27, 19.82it/s]\n"
          ]
        },
        {
          "output_type": "stream",
          "name": "stdout",
          "text": [
            "Epoch 25 Batch 2144\n",
            "Accuracy: 82.07 %  Loss: 0.6068  Duration: 0.45 minutes\n",
            "Validation Accuracy 81.17 Validation Loss: 0.7660\n",
            "\n"
          ]
        },
        {
          "output_type": "stream",
          "name": "stderr",
          "text": [
            "536it [00:27, 19.59it/s]\n"
          ]
        },
        {
          "output_type": "stream",
          "name": "stdout",
          "text": [
            "Epoch 26 Batch 2144\n",
            "Accuracy: 82.13 %  Loss: 0.4320  Duration: 0.46 minutes\n",
            "Validation Accuracy 82.68 Validation Loss: 0.1003\n",
            "\n"
          ]
        },
        {
          "output_type": "stream",
          "name": "stderr",
          "text": [
            "536it [00:27, 19.84it/s]\n"
          ]
        },
        {
          "output_type": "stream",
          "name": "stdout",
          "text": [
            "Epoch 27 Batch 2144\n",
            "Accuracy: 82.04 %  Loss: 0.8244  Duration: 0.45 minutes\n",
            "Validation Accuracy 82.70 Validation Loss: 0.4071\n",
            "\n"
          ]
        },
        {
          "output_type": "stream",
          "name": "stderr",
          "text": [
            "536it [00:27, 19.66it/s]\n"
          ]
        },
        {
          "output_type": "stream",
          "name": "stdout",
          "text": [
            "Epoch 28 Batch 2144\n",
            "Accuracy: 82.31 %  Loss: 0.2701  Duration: 0.45 minutes\n",
            "Validation Accuracy 82.32 Validation Loss: 0.3808\n",
            "\n"
          ]
        },
        {
          "output_type": "stream",
          "name": "stderr",
          "text": [
            "536it [00:26, 19.96it/s]\n"
          ]
        },
        {
          "output_type": "stream",
          "name": "stdout",
          "text": [
            "Epoch 29 Batch 2144\n",
            "Accuracy: 82.50 %  Loss: 0.0886  Duration: 0.45 minutes\n",
            "Validation Accuracy 81.47 Validation Loss: 0.7642\n",
            "\n"
          ]
        },
        {
          "output_type": "stream",
          "name": "stderr",
          "text": [
            "536it [00:26, 19.87it/s]\n"
          ]
        },
        {
          "output_type": "stream",
          "name": "stdout",
          "text": [
            "Epoch 30 Batch 2144\n",
            "Accuracy: 81.99 %  Loss: 0.1106  Duration: 0.45 minutes\n",
            "Validation Accuracy 81.28 Validation Loss: 0.2923\n",
            "\n",
            "\n",
            "Training Duration 16.61 minutes\n",
            "GPU memory used : 85368832 kb\n",
            "GPU memory cached : 587202560 kb\n"
          ]
        },
        {
          "output_type": "stream",
          "name": "stderr",
          "text": [
            "/usr/local/lib/python3.10/dist-packages/torch/cuda/memory.py:440: FutureWarning: torch.cuda.memory_cached has been renamed to torch.cuda.memory_reserved\n",
            "  warnings.warn(\n"
          ]
        }
      ],
      "source": [
        "from tqdm import tqdm\n",
        "\n",
        "# set training start time\n",
        "start_time = time.time()\n",
        "\n",
        "# set best_prec loss value as 2 for checkpoint threshold\n",
        "best_prec1 = 2\n",
        "\n",
        "# empty batch variables\n",
        "b = None\n",
        "train_b = None\n",
        "test_b = None\n",
        "\n",
        "# start training\n",
        "for i in range(epochs):\n",
        "    # empty training correct and test correct counter as 0 during every iteration\n",
        "    trn_corr = 0\n",
        "    tst_corr = 0\n",
        "\n",
        "    # set epoch's starting time\n",
        "    e_start = time.time()\n",
        "\n",
        "    # train in batches\n",
        "    for b, (y, X) in tqdm(enumerate(train_gen)):\n",
        "        # set label as cuda if device is cuda\n",
        "        X, y = X.to(device), y.to(device)\n",
        "        # print(X.shape)\n",
        "        # print(y.shape)\n",
        "        # break\n",
        "\n",
        "        # forward pass image sample\n",
        "        y_pred = resnet_model(X.view(-1, 3, 224, 224))\n",
        "        # calculate loss\n",
        "        loss = criterion(y_pred.float(), torch.argmax(y.view(32, 4), dim=1).long())\n",
        "\n",
        "        # get argmax of predicted tensor, which is our label\n",
        "        predicted = torch.argmax(y_pred, dim=1).data\n",
        "        # if predicted label is correct as true label, calculate the sum for samples\n",
        "        batch_corr = (predicted == torch.argmax(y.view(32, 4), dim=1)).sum()\n",
        "        # increment train correct with correcly predicted labels per batch\n",
        "        trn_corr += batch_corr\n",
        "\n",
        "        # set optimizer gradients to zero\n",
        "        optimizer.zero_grad()\n",
        "        # back propagate with loss\n",
        "        loss.backward()\n",
        "        # perform optimizer step\n",
        "        optimizer.step()\n",
        "\n",
        "    # set epoch's end time\n",
        "    e_end = time.time()\n",
        "    # print training metrics\n",
        "\n",
        "    print(f'Epoch {(i+1)} Batch {(b+1)*4}\\nAccuracy: {trn_corr.item()*100/(4*8*b):2.2f} %  Loss: {loss.item():2.4f}  Duration: {((e_end-e_start)/60):.2f} minutes') # 4 images per batch * 8 augmentations per image * batch length\n",
        "\n",
        "    # some metrics storage for visualization\n",
        "    train_b = b\n",
        "    train_losses.append(loss)\n",
        "    train_correct.append(trn_corr)\n",
        "\n",
        "    X, y = None, None\n",
        "\n",
        "    # validate using validation generator\n",
        "    # do not perform any gradient updates while validation\n",
        "    with torch.no_grad():\n",
        "        for b, (y, X) in enumerate(valid_gen):\n",
        "            # set label as cuda if device is cuda\n",
        "            X, y = X.to(device), y.to(device)\n",
        "\n",
        "            # forward pass image\n",
        "            y_val = resnet_model(X.view(-1, 3, 224, 224))\n",
        "\n",
        "            # get argmax of predicted tensor, which is our label\n",
        "            predicted = torch.argmax(y_val, dim=1).data\n",
        "\n",
        "            # increment test correct with correcly predicted labels per batch\n",
        "            tst_corr += (predicted == torch.argmax(y.view(32, 4), dim=1)).sum()\n",
        "\n",
        "    # get loss of validation set\n",
        "    loss = criterion(y_val.float(), torch.argmax(y.view(32, 4), dim=1).long())\n",
        "    # print validation metrics\n",
        "    print(f'Validation Accuracy {tst_corr.item()*100/(4*8*b):2.2f} Validation Loss: {loss.item():2.4f}\\n')\n",
        "\n",
        "    # if current validation loss is less than previous iteration's validatin loss create and save a checkpoint\n",
        "    is_best = loss < best_prec1\n",
        "    best_prec1 = min(loss, best_prec1)\n",
        "    save_checkpoint({\n",
        "            'epoch': i + 1,\n",
        "            'state_dict': resnet_model.state_dict(),\n",
        "            'best_prec1': best_prec1,\n",
        "        }, is_best)\n",
        "\n",
        "    # some metrics storage for visualization\n",
        "    test_b  = b\n",
        "    test_losses.append(loss)\n",
        "    test_correct.append(tst_corr)\n",
        "\n",
        "# set total training's end time\n",
        "end_time = time.time() - start_time\n",
        "\n",
        "# print training summary\n",
        "print(\"\\nTraining Duration {:.2f} minutes\".format(end_time/60))\n",
        "print(\"GPU memory used : {} kb\".format(torch.cuda.memory_allocated()))\n",
        "print(\"GPU memory cached : {} kb\".format(torch.cuda.memory_cached()))"
      ]
    },
    {
      "cell_type": "code",
      "execution_count": 25,
      "metadata": {
        "id": "U5hiXkZkwW-W"
      },
      "outputs": [],
      "source": [
        "torch.cuda.empty_cache()"
      ]
    },
    {
      "cell_type": "markdown",
      "metadata": {
        "id": "9Rzl2f2kteb8"
      },
      "source": [
        "## Save the model\n",
        "\n",
        "Save the model after the training is completed"
      ]
    },
    {
      "cell_type": "code",
      "execution_count": 26,
      "metadata": {
        "id": "K4yzcJMmwPnY"
      },
      "outputs": [],
      "source": [
        "torch.save(resnet_model.state_dict(), '/content/drive/My Drive/bt_resnet50_model.pt')"
      ]
    },
    {
      "cell_type": "markdown",
      "metadata": {
        "id": "Q-2R8Yputlvh"
      },
      "source": [
        "## Evaluation"
      ]
    },
    {
      "cell_type": "markdown",
      "metadata": {
        "id": "hPEBr7E1tobU"
      },
      "source": [
        "Print the validation accuracy of the model calculated using validation set during training"
      ]
    },
    {
      "cell_type": "code",
      "execution_count": 27,
      "metadata": {
        "id": "4w0EuNLQvmNV",
        "colab": {
          "base_uri": "https://localhost:8080/"
        },
        "outputId": "46fe2304-56d0-4300-856c-f3a47540af6b"
      },
      "outputs": [
        {
          "output_type": "stream",
          "name": "stdout",
          "text": [
            "Validation accuracy: 81.28%\n"
          ]
        }
      ],
      "source": [
        "print(f'Validation accuracy: {test_correct[-1].item()*100/(test_b*8*4):.2f}%')"
      ]
    },
    {
      "cell_type": "markdown",
      "metadata": {
        "id": "EnauSi8Dt04I"
      },
      "source": [
        "Plot the loss graph"
      ]
    },
    {
      "cell_type": "code",
      "execution_count": 38,
      "metadata": {
        "colab": {
          "base_uri": "https://localhost:8080/",
          "height": 472
        },
        "id": "TttSopdFvtr0",
        "outputId": "6f516610-cd99-41b9-b9aa-ee66a44c9c75"
      },
      "outputs": [
        {
          "output_type": "display_data",
          "data": {
            "text/plain": [
              "<Figure size 640x480 with 1 Axes>"
            ],
            "image/png": "[encoded data removed]"
          },
          "metadata": {}
        }
      ],
      "source": [
        "import matplotlib.pyplot as plt\n",
        "\n",
        "# Move tensors to CPU\n",
        "train_losses_cpu = [loss.cpu().item() for loss in train_losses]\n",
        "test_losses_cpu = [loss.cpu().item() for loss in test_losses]\n",
        "\n",
        "plt.plot(train_losses_cpu, label='Training loss')\n",
        "plt.plot(test_losses_cpu, label='Validation loss')\n",
        "plt.title('Loss Metrics')\n",
        "plt.ylabel('Loss')\n",
        "plt.xlabel('Epochs')\n",
        "plt.legend()\n",
        "plt.show()"
      ]
    },
    {
      "cell_type": "markdown",
      "metadata": {
        "id": "8L-_dup0uCl5"
      },
      "source": [
        "Plot the accuracy graph\n",
        "\n",
        "* Training set - Total length of training samples divided by 100 for every trained sample\n",
        "\n",
        "  * `int((2144 * 8)/100) = int(171.52) = 171`\n",
        "\n",
        "* Testing set - Total length of testing samples divided by 100 for every testing sample\n",
        "\n",
        "  * `int((460 * 8)/100) = int(36.8) = 36`\n",
        "\n",
        "\n"
      ]
    },
    {
      "cell_type": "code",
      "execution_count": 40,
      "metadata": {
        "colab": {
          "base_uri": "https://localhost:8080/",
          "height": 472
        },
        "id": "YKzECNFZvx9u",
        "outputId": "17f289d9-ecaf-4bbe-8a47-6c12d368b91d"
      },
      "outputs": [
        {
          "output_type": "display_data",
          "data": {
            "text/plain": [
              "<Figure size 640x480 with 1 Axes>"
            ],
            "image/png": "[encoded data removed]"
          },
          "metadata": {}
        }
      ],
      "source": [
        "import matplotlib.pyplot as plt\n",
        "\n",
        "# Move tensors to CPU and convert to NumPy arrays\n",
        "train_correct_cpu = [t.cpu().item() / 171 for t in train_correct]\n",
        "test_correct_cpu = [t.cpu().item() / 36 for t in test_correct]\n",
        "\n",
        "plt.plot(train_correct_cpu, label='Training accuracy')\n",
        "plt.plot(test_correct_cpu, label='Validation accuracy')\n",
        "plt.title('Accuracy Metrics')\n",
        "plt.ylabel('Accuracy')\n",
        "plt.xlabel('Epochs')\n",
        "plt.legend()\n",
        "plt.show()"
      ]
    },
    {
      "cell_type": "markdown",
      "metadata": {
        "id": "nEKbGLWsIt6P"
      },
      "source": [
        "Empty out training set and validation set to free up RAM / Cache"
      ]
    },
    {
      "cell_type": "code",
      "execution_count": 32,
      "metadata": {
        "id": "SsVJuIwych21"
      },
      "outputs": [],
      "source": [
        "# resnet_model.load_state_dict(torch.load('/content/drive/My Drive/bt_resnet_torch.pt'))\n",
        "train_gen = None\n",
        "valid_gen = None\n",
        "train_set = None\n",
        "valid_set = None"
      ]
    },
    {
      "cell_type": "markdown",
      "metadata": {
        "id": "LfVhP2dmvdoi"
      },
      "source": [
        "Set model to evaluation mode\n",
        "\n",
        "Calculate loss, correctly classified samples, predicted values, labels and store them in a list using test dataloader"
      ]
    },
    {
      "cell_type": "code",
      "execution_count": 43,
      "metadata": {
        "colab": {
          "base_uri": "https://localhost:8080/"
        },
        "id": "WZJ7w9ztv1pb",
        "outputId": "2374311b-839a-4684-ab9f-d5b4e6eabe43"
      },
      "outputs": [
        {
          "output_type": "stream",
          "name": "stdout",
          "text": [
            "Test Loss: 0.3534\n"
          ]
        }
      ],
      "source": [
        "# set model to evaluation mode\n",
        "resnet_model.eval()\n",
        "\n",
        "# perform no gradient updates\n",
        "with torch.no_grad():\n",
        "    # soem metrics storage for visualization and analysis\n",
        "    correct = 0\n",
        "    test_loss = []\n",
        "    test_corr = []\n",
        "    labels = []\n",
        "    pred = []\n",
        "    # perform test set evaluation batch wise\n",
        "    for (y, X) in test_gen:\n",
        "        # set label to use CUDA if available\n",
        "        X, y = X.to(device), y.to(device)\n",
        "\n",
        "        # append original labels\n",
        "        labels.append(torch.argmax(y.view(10 * 8, 4), dim=1).data)\n",
        "\n",
        "        # perform forward pass\n",
        "        y_val = resnet_model(X.view(-1, 3, 224, 224))\n",
        "\n",
        "        # get argmax of predicted values, which is our label\n",
        "        predicted = torch.argmax(y_val, dim=1).data\n",
        "        # append predicted label\n",
        "        pred.append(predicted)\n",
        "\n",
        "        # calculate loss\n",
        "        loss = criterion(y_val.float(), torch.argmax(y.view(10 * 8, 4), dim=1).long())\n",
        "\n",
        "        # increment correct with correcly predicted labels per batch\n",
        "        correct += (predicted == torch.argmax(y.view(10 * 8, 4), dim=1)).sum()\n",
        "\n",
        "        # append correct samples labels and losses\n",
        "        test_corr.append(correct)\n",
        "        test_loss.append(loss)\n",
        "\n",
        "print(f\"Test Loss: {test_loss[-1].item():.4f}\")"
      ]
    },
    {
      "cell_type": "markdown",
      "metadata": {
        "id": "AqDm19ZSvyY2"
      },
      "source": [
        "Print the test accuracy\n"
      ]
    },
    {
      "cell_type": "code",
      "execution_count": 44,
      "metadata": {
        "colab": {
          "base_uri": "https://localhost:8080/"
        },
        "id": "HJm2yjzHbLlP",
        "outputId": "c1597e0c-3a39-43b3-a869-cb31c516d55e"
      },
      "outputs": [
        {
          "output_type": "stream",
          "name": "stdout",
          "text": [
            "Test accuracy: 87.80%\n"
          ]
        }
      ],
      "source": [
        "print(f'Test accuracy: {test_corr[-1].item()*100/(460*8):.2f}%')"
      ]
    },
    {
      "cell_type": "markdown",
      "metadata": {
        "id": "T6fxSb68v0uf"
      },
      "source": [
        "Convert list of tensors to tensors"
      ]
    },
    {
      "cell_type": "code",
      "execution_count": 45,
      "metadata": {
        "id": "jDRv0IhThKhP"
      },
      "outputs": [],
      "source": [
        "labels = torch.stack(labels)\n",
        "pred = torch.stack(pred)"
      ]
    },
    {
      "cell_type": "markdown",
      "metadata": {
        "id": "Ps2QnU4ov4Sr"
      },
      "source": [
        "Define ground-truth labels as a list"
      ]
    },
    {
      "cell_type": "code",
      "execution_count": 46,
      "metadata": {
        "id": "7BsASCMlL2_z"
      },
      "outputs": [],
      "source": [
        "LABELS = ['Meningioma', 'Glioma', 'Pitutary']"
      ]
    },
    {
      "cell_type": "markdown",
      "metadata": {
        "id": "wubHPKqov61w"
      },
      "source": [
        "Plot the confusion matrix"
      ]
    },
    {
      "cell_type": "code",
      "execution_count": 47,
      "metadata": {
        "colab": {
          "base_uri": "https://localhost:8080/",
          "height": 542
        },
        "id": "3cfoG8Q0gMKZ",
        "outputId": "3e3b0a5e-0f02-4ad4-eb28-45b46845eb75"
      },
      "outputs": [
        {
          "output_type": "display_data",
          "data": {
            "text/plain": [
              "<Figure size 900x600 with 2 Axes>"
            ],
            "image/png": "[encoded data removed]"
          },
          "metadata": {}
        }
      ],
      "source": [
        "arr = confusion_matrix(pred.view(-1).cpu(), labels.view(-1).cpu())\n",
        "df_cm = pd.DataFrame(arr, LABELS, LABELS)\n",
        "plt.figure(figsize = (9,6))\n",
        "sns.heatmap(df_cm, annot=True, fmt=\"d\", cmap='viridis')\n",
        "plt.xlabel(\"Prediction\")\n",
        "plt.ylabel(\"Target\")\n",
        "plt.show()"
      ]
    },
    {
      "cell_type": "markdown",
      "metadata": {
        "id": "kHhrPo6Tv9Xc"
      },
      "source": [
        "Print the classification report"
      ]
    },
    {
      "cell_type": "code",
      "execution_count": 48,
      "metadata": {
        "colab": {
          "base_uri": "https://localhost:8080/"
        },
        "id": "MNWrpWVXL_pQ",
        "outputId": "11b7f1ab-55cb-4524-a1f9-bf7c5aa8f995"
      },
      "outputs": [
        {
          "output_type": "stream",
          "name": "stdout",
          "text": [
            "Clasification Report\n",
            "\n",
            "              precision    recall  f1-score   support\n",
            "\n",
            "           1       0.62      0.83      0.71       604\n",
            "           2       0.92      0.88      0.90      1681\n",
            "           3       0.99      0.90      0.94      1395\n",
            "\n",
            "    accuracy                           0.88      3680\n",
            "   macro avg       0.84      0.87      0.85      3680\n",
            "weighted avg       0.90      0.88      0.88      3680\n",
            "\n"
          ]
        }
      ],
      "source": [
        "print(f\"Clasification Report\\n\\n{classification_report(pred.view(-1).cpu(), labels.view(-1).cpu())}\")"
      ]
    },
    {
      "cell_type": "markdown",
      "metadata": {
        "id": "N5xUvujSwBQc"
      },
      "source": [
        "Print the Jaccard Similarity score / Index (Accuracy)"
      ]
    },
    {
      "cell_type": "code",
      "execution_count": 54,
      "metadata": {
        "colab": {
          "base_uri": "https://localhost:8080/",
          "height": 144
        },
        "id": "WXiYK3JxMC3F",
        "outputId": "e76150c8-b222-48a4-f483-cb840eb7bbbb"
      },
      "outputs": [
        {
          "output_type": "error",
          "ename": "NameError",
          "evalue": "name 'jaccard_similarity_score' is not defined",
          "traceback": [
            "\u001b[0;31m---------------------------------------------------------------------------\u001b[0m",
            "\u001b[0;31mNameError\u001b[0m                                 Traceback (most recent call last)",
            "\u001b[0;32m<ipython-input-54-6d634a486164>\u001b[0m in \u001b[0;36m<cell line: 1>\u001b[0;34m()\u001b[0m\n\u001b[0;32m----> 1\u001b[0;31m \u001b[0mprint\u001b[0m\u001b[0;34m(\u001b[0m\u001b[0;34mf\"Jaccard Index\\n\\n{round(jaccard_similarity_score(pred.view(-1).cpu(), labels.view(-1).cpu()), 2)}\"\u001b[0m\u001b[0;34m)\u001b[0m\u001b[0;34m\u001b[0m\u001b[0;34m\u001b[0m\u001b[0m\n\u001b[0m",
            "\u001b[0;31mNameError\u001b[0m: name 'jaccard_similarity_score' is not defined"
          ]
        }
      ],
      "source": [
        "print(f\"Jaccard Index\\n\\n{round(jaccard_similarity_score(pred.view(-1).cpu(), labels.view(-1).cpu()), 2)}\")"
      ]
    },
    {
      "cell_type": "markdown",
      "metadata": {
        "id": "Qw0YkS8kbs8q"
      },
      "source": [
        "We've got around 99% test accuracy which is really good."
      ]
    },
    {
      "cell_type": "markdown",
      "metadata": {
        "id": "HOzZqnNq2EyF"
      },
      "source": [
        "## Future Scopes\n",
        "\n",
        "* The model will be deployed using python flask server as a website, so anyone could an upload MRI image of brain and find out what kinda tumor is present (if any).\n",
        "\n",
        "* Tumor detection will be added in future to locate where the tumor is present in the given MRI image of the brain.\n",
        "\n",
        "* Will add more sophisticated regularization techniques to prevent slight overfitting and increase accuracy upto 100 %."
      ]
    }
  ],
  "metadata": {
    "accelerator": "GPU",
    "colab": {
      "provenance": []
    },
    "kernelspec": {
      "display_name": "Python 3",
      "name": "python3"
    }
  },
  "nbformat": 4,
  "nbformat_minor": 0
}